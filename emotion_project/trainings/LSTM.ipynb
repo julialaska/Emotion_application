{
 "cells": [
  {
   "cell_type": "code",
   "execution_count": 1,
   "id": "ea7268f9-57fc-4cad-a850-226c7f9fcaf9",
   "metadata": {},
   "outputs": [
    {
     "name": "stdout",
     "output_type": "stream",
     "text": [
      "WARNING:tensorflow:From C:\\Users\\Julia\\AppData\\Local\\Programs\\Python\\Python311\\Lib\\site-packages\\keras\\src\\losses.py:2976: The name tf.losses.sparse_softmax_cross_entropy is deprecated. Please use tf.compat.v1.losses.sparse_softmax_cross_entropy instead.\n",
      "\n"
     ]
    }
   ],
   "source": [
    "import re\n",
    "import pandas as pd\n",
    "import numpy as np\n",
    "from sklearn.model_selection import train_test_split\n",
    "from tensorflow.keras.preprocessing.text import Tokenizer\n",
    "from tensorflow.keras.preprocessing.sequence import pad_sequences\n",
    "from tensorflow.keras.models import Sequential\n",
    "from tensorflow.keras.layers import Embedding, LSTM, Dense\n",
    "from sklearn.preprocessing import LabelEncoder\n",
    "from sklearn import svm\n",
    "from nltk import PorterStemmer, word_tokenize\n",
    "from nltk.corpus import stopwords\n",
    "import unidecode\n",
    "from sklearn.feature_extraction.text import TfidfVectorizer\n",
    "from sklearn.metrics import accuracy_score \n",
    "from sklearn.metrics import precision_score\n",
    "from sklearn.metrics import recall_score\n",
    "from sklearn.metrics import f1_score\n",
    "from sklearn.metrics import classification_report\n",
    "from sklearn.neural_network import MLPClassifier\n",
    "import joblib\n",
    "from keras.preprocessing.text import Tokenizer\n",
    "from keras.preprocessing.sequence import pad_sequences\n",
    "from keras.models import load_model\n",
    "from keras.models import Sequential\n",
    "from keras.layers import Embedding, LSTM, Dense\n",
    "from sklearn.preprocessing import LabelEncoder"
   ]
  },
  {
   "cell_type": "code",
   "execution_count": 16,
   "id": "f1929c29-8d80-4221-b053-bf1a5f30d46b",
   "metadata": {},
   "outputs": [],
   "source": [
    "from sklearn.metrics import confusion_matrix\n",
    "def compute_metrics(y_true, predictions):\n",
    "  average = \"macro\"\n",
    "  acc = accuracy_score(y_true, predictions)\n",
    "  precision = precision_score(y_true, predictions, average=average)\n",
    "  recall = recall_score(y_true, predictions, average=average)\n",
    "  f1 = f1_score(y_true, predictions, average=average)\n",
    "  print(f\"Model has acc = {acc}\\n, precision = {precision}\\n, recall = {recall}\\n, f1_score = {f1}\\n\")"
   ]
  },
  {
   "cell_type": "code",
   "execution_count": 17,
   "id": "e66bb198-84e6-463e-a3cd-2e227c8a7873",
   "metadata": {},
   "outputs": [],
   "source": [
    "def compute_metrics(y_true, predictions):\n",
    "  average = \"macro\"\n",
    "  acc = accuracy_score(y_true, predictions)\n",
    "  precision = precision_score(y_true, predictions, average=average)\n",
    "  recall = recall_score(y_true, predictions, average=average)\n",
    "  f1 = f1_score(y_true, predictions, average=average)\n",
    "  print(f\"Model has acc = {acc}\\n, precision = {precision}\\n, recall = {recall}\\n, f1_score = {f1}\\n\")"
   ]
  },
  {
   "cell_type": "code",
   "execution_count": 18,
   "id": "c2a8096b-6cc3-4470-b979-942a7ef47b6d",
   "metadata": {},
   "outputs": [],
   "source": [
    "import itertools\n",
    "import pandas as pd\n",
    "import matplotlib.pyplot as plt\n",
    "def plot_confusion_matrix(cm,\n",
    "                          target_names,\n",
    "                          title='Confusion matrix',\n",
    "                          cmap=None,\n",
    "                          normalize=True):\n",
    "    accuracy = np.trace(cm) / float(np.sum(cm))\n",
    "    misclass = 1 - accuracy\n",
    "\n",
    "    if cmap is None:\n",
    "        cmap = plt.get_cmap('Blues')\n",
    "\n",
    "    plt.figure(figsize=(12, 8))\n",
    "    plt.imshow(cm, interpolation='nearest', cmap=cmap)\n",
    "    plt.rcParams.update({'font.size': 20})\n",
    "    plt.title(title)\n",
    "    plt.colorbar()\n",
    "\n",
    "    if target_names is not None:\n",
    "        tick_marks = np.arange(len(target_names))\n",
    "        plt.xticks(tick_marks, target_names, rotation=45)\n",
    "        plt.yticks(tick_marks, target_names)\n",
    "\n",
    "    if normalize:\n",
    "        cm = cm.astype('float') / cm.sum(axis=1)[:, np.newaxis]\n",
    "\n",
    "    thresh = cm.max() / 1.5 if normalize else cm.max() / 2\n",
    "    for i, j in itertools.product(range(cm.shape[0]), range(cm.shape[1])):\n",
    "        if normalize:\n",
    "            plt.text(j, i, \"{:0.4f}\".format(cm[i, j]),\n",
    "                     horizontalalignment=\"center\",\n",
    "                     color=\"white\" if cm[i, j] > thresh else \"black\")\n",
    "        else:\n",
    "            plt.text(j, i, \"{:,}\".format(cm[i, j]),\n",
    "                     horizontalalignment=\"center\",\n",
    "                     color=\"white\" if cm[i, j] > thresh else \"black\")\n",
    "\n",
    "    plt.tight_layout()\n",
    "    plt.ylabel('True label')\n",
    "    plt.xlabel('Predicted label\\naccuracy={:0.4f}; misclass={:0.4f}'.format(accuracy, misclass))\n",
    "    plt.show()\n"
   ]
  },
  {
   "cell_type": "code",
   "execution_count": 2,
   "id": "90c5bb84-7dd5-4f93-8f7d-e200e08236b8",
   "metadata": {},
   "outputs": [],
   "source": [
    "train_data = pd.read_csv('data/wassa_train.csv')\n",
    "test_data = pd.read_csv('data/wassa_test.csv')\n",
    "val_data = pd.read_csv('data/wassa_val.csv')"
   ]
  },
  {
   "cell_type": "code",
   "execution_count": 3,
   "id": "fbafa9dc-8be5-4aba-9353-7101a175fd31",
   "metadata": {},
   "outputs": [
    {
     "data": {
      "text/html": [
       "<div>\n",
       "<style scoped>\n",
       "    .dataframe tbody tr th:only-of-type {\n",
       "        vertical-align: middle;\n",
       "    }\n",
       "\n",
       "    .dataframe tbody tr th {\n",
       "        vertical-align: top;\n",
       "    }\n",
       "\n",
       "    .dataframe thead th {\n",
       "        text-align: right;\n",
       "    }\n",
       "</style>\n",
       "<table border=\"1\" class=\"dataframe\">\n",
       "  <thead>\n",
       "    <tr style=\"text-align: right;\">\n",
       "      <th></th>\n",
       "      <th>id</th>\n",
       "      <th>tweet</th>\n",
       "      <th>emotion</th>\n",
       "    </tr>\n",
       "  </thead>\n",
       "  <tbody>\n",
       "    <tr>\n",
       "      <th>0</th>\n",
       "      <td>1929</td>\n",
       "      <td>Kinda wished I watched mischievous kiss before...</td>\n",
       "      <td>joy</td>\n",
       "    </tr>\n",
       "    <tr>\n",
       "      <th>1</th>\n",
       "      <td>4049</td>\n",
       "      <td>When you forget to mention you were bought dre...</td>\n",
       "      <td>anger</td>\n",
       "    </tr>\n",
       "    <tr>\n",
       "      <th>2</th>\n",
       "      <td>5405</td>\n",
       "      <td>@FreyaLynn @donniewahlberg yep! jimmy buffett ...</td>\n",
       "      <td>neutral</td>\n",
       "    </tr>\n",
       "    <tr>\n",
       "      <th>3</th>\n",
       "      <td>5900</td>\n",
       "      <td>@philcampbell blue skies? where, it's still gr...</td>\n",
       "      <td>neutral</td>\n",
       "    </tr>\n",
       "    <tr>\n",
       "      <th>4</th>\n",
       "      <td>3712</td>\n",
       "      <td>Some moving clips on youtube tonight of the vi...</td>\n",
       "      <td>anger</td>\n",
       "    </tr>\n",
       "    <tr>\n",
       "      <th>...</th>\n",
       "      <td>...</td>\n",
       "      <td>...</td>\n",
       "      <td>...</td>\n",
       "    </tr>\n",
       "    <tr>\n",
       "      <th>5996</th>\n",
       "      <td>5407</td>\n",
       "      <td>@koifusionpdx i was so close to the tacos...on...</td>\n",
       "      <td>neutral</td>\n",
       "    </tr>\n",
       "    <tr>\n",
       "      <th>5997</th>\n",
       "      <td>496</td>\n",
       "      <td>@Fatumoriginal there's no sitcom better! If u ...</td>\n",
       "      <td>sadness</td>\n",
       "    </tr>\n",
       "    <tr>\n",
       "      <th>5998</th>\n",
       "      <td>499</td>\n",
       "      <td>@Mysteri759 @Ren102e906 @slb42jcb @swoozyqyah ...</td>\n",
       "      <td>sadness</td>\n",
       "    </tr>\n",
       "    <tr>\n",
       "      <th>5999</th>\n",
       "      <td>1784</td>\n",
       "      <td>Watch this amazing live.ly broadcast by @ittzd...</td>\n",
       "      <td>joy</td>\n",
       "    </tr>\n",
       "    <tr>\n",
       "      <th>6000</th>\n",
       "      <td>4829</td>\n",
       "      <td>@daniellemhicks lol what!! where is it!</td>\n",
       "      <td>neutral</td>\n",
       "    </tr>\n",
       "  </tbody>\n",
       "</table>\n",
       "<p>6001 rows × 3 columns</p>\n",
       "</div>"
      ],
      "text/plain": [
       "        id                                              tweet  emotion\n",
       "0     1929  Kinda wished I watched mischievous kiss before...      joy\n",
       "1     4049  When you forget to mention you were bought dre...    anger\n",
       "2     5405  @FreyaLynn @donniewahlberg yep! jimmy buffett ...  neutral\n",
       "3     5900  @philcampbell blue skies? where, it's still gr...  neutral\n",
       "4     3712  Some moving clips on youtube tonight of the vi...    anger\n",
       "...    ...                                                ...      ...\n",
       "5996  5407  @koifusionpdx i was so close to the tacos...on...  neutral\n",
       "5997   496  @Fatumoriginal there's no sitcom better! If u ...  sadness\n",
       "5998   499  @Mysteri759 @Ren102e906 @slb42jcb @swoozyqyah ...  sadness\n",
       "5999  1784  Watch this amazing live.ly broadcast by @ittzd...      joy\n",
       "6000  4829            @daniellemhicks lol what!! where is it!  neutral\n",
       "\n",
       "[6001 rows x 3 columns]"
      ]
     },
     "execution_count": 3,
     "metadata": {},
     "output_type": "execute_result"
    }
   ],
   "source": [
    "train_data"
   ]
  },
  {
   "cell_type": "code",
   "execution_count": 4,
   "id": "d8780765-b199-43d3-9126-9aa4837ef125",
   "metadata": {},
   "outputs": [],
   "source": [
    "def preprocess_text(text):\n",
    "    result = text.lower()\n",
    "    result = result.strip()\n",
    "    result = re.result = re.sub(r\"http\\S+\", \"\", result)\n",
    "    result = re.sub('\\S*@\\S*\\s?', '', result)\n",
    "    result = unidecode.unidecode(result)\n",
    "    stop_words = stopwords.words(\"english\")\n",
    "    word_list = word_tokenize(result)\n",
    "\n",
    "    stemmed_sentence = \"\"\n",
    "    for word in word_list:\n",
    "        if word not in stop_words:\n",
    "            stemmed_sentence += word\n",
    "            stemmed_sentence += \" \"\n",
    "\n",
    "    result = stemmed_sentence\n",
    "    whitelist = set('abcdefghijklmnopqrstuvwxyz ABCDEFGHIJKLMNOPQRSTUVWXYZ')\n",
    "    result = ''.join(filter(whitelist.__contains__, result))\n",
    "    result = ''.join([i for i in result if not i.isdigit()])\n",
    "    return result"
   ]
  },
  {
   "cell_type": "code",
   "execution_count": 5,
   "id": "6b7ddb23-edc0-4b21-9e1b-3070312a994e",
   "metadata": {},
   "outputs": [],
   "source": [
    "def preprocess_text_list(text_list):\n",
    "  for i,text in enumerate(text_list):\n",
    "    text_list[i] = preprocess_text(text_list[i])"
   ]
  },
  {
   "cell_type": "code",
   "execution_count": 6,
   "id": "afc37feb-e547-40ce-a0c0-4c23e313363c",
   "metadata": {},
   "outputs": [
    {
     "data": {
      "text/plain": [
       "['joy',\n",
       " 'anger',\n",
       " 'neutral',\n",
       " 'neutral',\n",
       " 'anger',\n",
       " 'joy',\n",
       " 'neutral',\n",
       " 'sadness',\n",
       " 'sadness',\n",
       " 'neutral']"
      ]
     },
     "execution_count": 6,
     "metadata": {},
     "output_type": "execute_result"
    }
   ],
   "source": [
    "train_texts = train_data[\"tweet\"].tolist()\n",
    "val_texts = val_data[\"tweet\"].tolist()\n",
    "test_texts = test_data[\"tweet\"].tolist()\n",
    "\n",
    "\n",
    "train_labels = train_data[\"emotion\"].tolist()\n",
    "val_labels = val_data[\"emotion\"].tolist()\n",
    "test_labels = test_data[\"emotion\"].tolist()\n",
    "\n",
    "train_labels[:10]\n",
    "     "
   ]
  },
  {
   "cell_type": "code",
   "execution_count": 7,
   "id": "8242b721-0576-44ef-9b8f-f436ee55b8ca",
   "metadata": {},
   "outputs": [
    {
     "data": {
      "text/plain": [
       "['kinda wished watched mischievous kiss playful kiss ',\n",
       " 'forget mention bought dreamboys tickets ',\n",
       " 'yep  jimmy buffett ftw     jimmy needs tweet words wisdom every morning ',\n",
       " 'blue skies   s still grey hazy window ',\n",
       " 'moving clips youtube tonight vigil held tulsa metropolitan baptist church  terencecruther  justice  sadness ',\n",
       " 'makes successful  happy forever ',\n",
       " 'morning hon  breakfast  cant decide ',\n",
       " 'standard candice starting show pout  startasyoumeantogoon  gbbo ',\n",
       " '   would frown bit  folding arms  why every time m need assistance someone expects lil   ',\n",
       " 'someone make cofffeeeeeee  ']"
      ]
     },
     "execution_count": 7,
     "metadata": {},
     "output_type": "execute_result"
    }
   ],
   "source": [
    "preprocess_text_list(train_texts)\n",
    "preprocess_text_list(val_texts)\n",
    "preprocess_text_list(test_texts)\n",
    "\n",
    "train_texts[:10]"
   ]
  },
  {
   "cell_type": "code",
   "execution_count": 8,
   "id": "cf997945-5225-4452-803d-a8fe14bbf08a",
   "metadata": {},
   "outputs": [],
   "source": [
    "tokenizer = Tokenizer()\n",
    "tokenizer.fit_on_texts(train_texts)"
   ]
  },
  {
   "cell_type": "code",
   "execution_count": 9,
   "id": "a744610b-f783-4c61-8706-3b88f691e1d2",
   "metadata": {},
   "outputs": [],
   "source": [
    "tokenized_train_texts = tokenizer.texts_to_sequences(train_texts)\n",
    "tokenized_val_texts = tokenizer.texts_to_sequences(val_texts)\n",
    "tokenized_test_texts = tokenizer.texts_to_sequences(test_texts)"
   ]
  },
  {
   "cell_type": "code",
   "execution_count": 10,
   "id": "ed62ba41-80d3-4631-8418-bf4798cf29d1",
   "metadata": {},
   "outputs": [],
   "source": [
    "max_sequence_length = max(len(seq) for seq in tokenized_train_texts)\n",
    "padded_train_texts = pad_sequences(tokenized_train_texts, maxlen=max_sequence_length)\n",
    "padded_val_texts = pad_sequences(tokenized_val_texts, maxlen=max_sequence_length)\n",
    "padded_test_texts = pad_sequences(tokenized_test_texts, maxlen=max_sequence_length)\n"
   ]
  },
  {
   "cell_type": "code",
   "execution_count": 77,
   "id": "c92a2194-0987-4818-a2dc-25870fd58ca7",
   "metadata": {},
   "outputs": [],
   "source": [
    "label_encoder = LabelEncoder()\n",
    "encoded_train_labels = label_encoder.fit_transform(train_labels)\n",
    "encoded_val_labels = label_encoder.fit_transform(val_labels)\n",
    "encoded_test_labels = label_encoder.fit_transform(test_labels)\n"
   ]
  },
  {
   "cell_type": "code",
   "execution_count": 78,
   "id": "6a5242b5-fded-4871-a4bd-07987b394027",
   "metadata": {},
   "outputs": [],
   "source": [
    "embedding_dim = 50 \n",
    "lstm_units = 100 "
   ]
  },
  {
   "cell_type": "code",
   "execution_count": 79,
   "id": "83cb4d26-a7d5-4f32-8775-af69857e9e01",
   "metadata": {},
   "outputs": [],
   "source": [
    "model = Sequential()\n",
    "model.add(Embedding(input_dim=len(tokenizer.word_index) + 1, output_dim=embedding_dim, input_length=max_sequence_length))\n",
    "model.add(LSTM(units=lstm_units))\n",
    "model.add(Dense(units=len(label_encoder.classes_), activation='softmax'))"
   ]
  },
  {
   "cell_type": "code",
   "execution_count": 80,
   "id": "46570149-c641-4f35-b5dc-9f475431a72b",
   "metadata": {},
   "outputs": [],
   "source": [
    "model.compile(optimizer='adam', loss='sparse_categorical_crossentropy', metrics=['accuracy'])"
   ]
  },
  {
   "cell_type": "code",
   "execution_count": 81,
   "id": "095ead2e-aebe-4067-8a68-36f0daf8bfe3",
   "metadata": {},
   "outputs": [
    {
     "name": "stdout",
     "output_type": "stream",
     "text": [
      "Epoch 1/5\n",
      "188/188 [==============================] - 3s 9ms/step - loss: 1.3833 - accuracy: 0.4394 - val_loss: 0.8725 - val_accuracy: 0.7827\n",
      "Epoch 2/5\n",
      "188/188 [==============================] - 1s 7ms/step - loss: 0.3805 - accuracy: 0.8925 - val_loss: 0.5315 - val_accuracy: 0.8533\n",
      "Epoch 3/5\n",
      "188/188 [==============================] - 1s 8ms/step - loss: 0.0972 - accuracy: 0.9737 - val_loss: 0.5301 - val_accuracy: 0.8533\n",
      "Epoch 4/5\n",
      "188/188 [==============================] - 1s 7ms/step - loss: 0.0456 - accuracy: 0.9877 - val_loss: 0.5799 - val_accuracy: 0.8613\n",
      "Epoch 5/5\n",
      "188/188 [==============================] - 1s 7ms/step - loss: 0.0290 - accuracy: 0.9935 - val_loss: 0.5175 - val_accuracy: 0.8427\n"
     ]
    },
    {
     "data": {
      "text/plain": [
       "<keras.src.callbacks.History at 0x1db494c6110>"
      ]
     },
     "execution_count": 81,
     "metadata": {},
     "output_type": "execute_result"
    }
   ],
   "source": [
    "model.fit(padded_train_texts, encoded_train_labels, epochs=5, validation_data=(padded_val_texts, encoded_val_labels))"
   ]
  },
  {
   "cell_type": "code",
   "execution_count": null,
   "id": "f765c766-45c9-4981-b818-4836a08424d2",
   "metadata": {},
   "outputs": [],
   "source": [
    "y_pred = model.predict(padded_test_texts)\n",
    "y_pred"
   ]
  },
  {
   "cell_type": "code",
   "execution_count": 83,
   "id": "44ec9e19-1fef-4f2d-bcec-21b8c19960a6",
   "metadata": {},
   "outputs": [
    {
     "name": "stdout",
     "output_type": "stream",
     "text": [
      "Model has acc = 0.8573333333333333\n",
      ", precision = 0.8617417938478473\n",
      ", recall = 0.8573333333333334\n",
      ", f1_score = 0.8579848098933626\n",
      "\n"
     ]
    }
   ],
   "source": [
    "acc = accuracy_score(encoded_test_labels, np.argmax(y_pred, axis=1))\n",
    "precision = precision_score(encoded_test_labels, np.argmax(y_pred, axis=1), average=\"macro\")\n",
    "recall = recall_score(encoded_test_labels, np.argmax(y_pred, axis=1), average=\"macro\")\n",
    "f1 = f1_score(encoded_test_labels, np.argmax(y_pred, axis=1), average=\"macro\")\n",
    "print(f\"Model has acc = {acc}\\n, precision = {precision}\\n, recall = {recall}\\n, f1_score = {f1}\\n\")\n"
   ]
  },
  {
   "cell_type": "code",
   "execution_count": 84,
   "id": "bfe04d67-c25d-4ac3-b1d3-310f4bd7700a",
   "metadata": {},
   "outputs": [
    {
     "name": "stdout",
     "output_type": "stream",
     "text": [
      "24/24 [==============================] - 0s 2ms/step\n",
      "              precision    recall  f1-score   support\n",
      "\n",
      "       anger       0.90      0.81      0.86       150\n",
      "        fear       0.88      0.85      0.87       150\n",
      "         joy       0.94      0.87      0.90       150\n",
      "     neutral       0.66      0.92      0.77       150\n",
      "     sadness       0.98      0.80      0.88       150\n",
      "\n",
      "    accuracy                           0.85       750\n",
      "   macro avg       0.87      0.85      0.85       750\n",
      "weighted avg       0.87      0.85      0.85       750\n",
      "\n"
     ]
    }
   ],
   "source": [
    "predicted_labels = model.predict(padded_test_texts)\n",
    "\n",
    "# Convert predicted probabilities to class labels\n",
    "predicted_classes = [label_encoder.classes_[np.argmax(prob)] for prob in predicted_labels]\n",
    "\n",
    "# Generate classification report\n",
    "report = classification_report(test_labels, predicted_classes)\n",
    "\n",
    "# Print the classification report\n",
    "print(report)"
   ]
  },
  {
   "cell_type": "code",
   "execution_count": 85,
   "id": "21c0689e-372c-44a0-a12c-ce86606b3812",
   "metadata": {},
   "outputs": [
    {
     "name": "stdout",
     "output_type": "stream",
     "text": [
      "24/24 [==============================] - 0s 2ms/step\n",
      "              precision    recall  f1-score   support\n",
      "\n",
      "           0       0.90      0.81      0.86       150\n",
      "           1       0.88      0.85      0.87       150\n",
      "           2       0.94      0.87      0.90       150\n",
      "           3       0.66      0.92      0.77       150\n",
      "           4       0.98      0.80      0.88       150\n",
      "\n",
      "    accuracy                           0.85       750\n",
      "   macro avg       0.87      0.85      0.85       750\n",
      "weighted avg       0.87      0.85      0.85       750\n",
      "\n"
     ]
    }
   ],
   "source": [
    "predicted_probabilities = model.predict(padded_test_texts)\n",
    "\n",
    "# Konwertuj prawdopodobieństwa na klasy (indeks klasy o najwyższym prawdopodobieństwie)\n",
    "predicted_labels = np.argmax(predicted_probabilities, axis=1)\n",
    "\n",
    "# Użyj classification_report\n",
    "report = classification_report(encoded_test_labels, predicted_labels)\n",
    "print(report)"
   ]
  },
  {
   "cell_type": "code",
   "execution_count": null,
   "id": "fb04cc6d-47f4-442d-921d-f2f1fad9dfe1",
   "metadata": {},
   "outputs": [],
   "source": [
    "loss, accuracy = model.evaluate(padded_test_texts, encoded_test_labels)\n",
    "print(f'Test accuracy: {accuracy * 100:.2f}%')"
   ]
  },
  {
   "cell_type": "code",
   "execution_count": null,
   "id": "d3aa2317-2224-4dde-b644-51b23259c532",
   "metadata": {},
   "outputs": [],
   "source": [
    "labels = ['joy', 'anger', 'fear', 'sadness', 'neutral']"
   ]
  },
  {
   "cell_type": "code",
   "execution_count": 76,
   "id": "445e687a-d5c5-4037-8d51-98a978417b63",
   "metadata": {},
   "outputs": [
    {
     "data": {
      "image/png": "[encoded data removed]",
      "text/plain": [
       "<Figure size 1200x800 with 2 Axes>"
      ]
     },
     "metadata": {},
     "output_type": "display_data"
    }
   ],
   "source": [
    "predicted = label_encoder.inverse_transform(predicted_labels)\n",
    "cm = confusion_matrix(test_labels, predicted, labels=labels)\n",
    "plot_confusion_matrix(cm, labels)"
   ]
  },
  {
   "cell_type": "code",
   "execution_count": 34,
   "id": "5428df5d-5f80-499c-a304-ceec20fa6d4c",
   "metadata": {
    "scrolled": true
   },
   "outputs": [
    {
     "name": "stdout",
     "output_type": "stream",
     "text": [
      "1/1 [==============================] - 0s 16ms/step\n",
      "1/1 [==============================] - 0s 15ms/step\n",
      "1/1 [==============================] - 0s 15ms/step\n",
      "1/1 [==============================] - 0s 14ms/step\n",
      "1/1 [==============================] - 0s 14ms/step\n",
      "1/1 [==============================] - 0s 14ms/step\n",
      "1/1 [==============================] - 0s 14ms/step\n",
      "1/1 [==============================] - 0s 14ms/step\n",
      "1/1 [==============================] - 0s 14ms/step\n",
      "1/1 [==============================] - 0s 15ms/step\n",
      "1/1 [==============================] - 0s 15ms/step\n",
      "1/1 [==============================] - 0s 15ms/step\n",
      "1/1 [==============================] - 0s 15ms/step\n",
      "1/1 [==============================] - 0s 15ms/step\n",
      "1/1 [==============================] - 0s 14ms/step\n",
      "1/1 [==============================] - 0s 13ms/step\n",
      "1/1 [==============================] - 0s 14ms/step\n",
      "1/1 [==============================] - 0s 15ms/step\n",
      "1/1 [==============================] - 0s 15ms/step\n",
      "1/1 [==============================] - 0s 14ms/step\n",
      "1/1 [==============================] - 0s 14ms/step\n",
      "1/1 [==============================] - 0s 14ms/step\n",
      "1/1 [==============================] - 0s 14ms/step\n",
      "1/1 [==============================] - 0s 14ms/step\n",
      "1/1 [==============================] - 0s 14ms/step\n",
      "1/1 [==============================] - 0s 14ms/step\n",
      "1/1 [==============================] - 0s 14ms/step\n"
     ]
    },
    {
     "data": {
      "text/html": [
       "<div>\n",
       "<style scoped>\n",
       "    .dataframe tbody tr th:only-of-type {\n",
       "        vertical-align: middle;\n",
       "    }\n",
       "\n",
       "    .dataframe tbody tr th {\n",
       "        vertical-align: top;\n",
       "    }\n",
       "\n",
       "    .dataframe thead th {\n",
       "        text-align: right;\n",
       "    }\n",
       "</style>\n",
       "<table border=\"1\" class=\"dataframe\">\n",
       "  <thead>\n",
       "    <tr style=\"text-align: right;\">\n",
       "      <th></th>\n",
       "      <th>Text</th>\n",
       "      <th>Predicted Emotion (LSTM)</th>\n",
       "      <th>Probability (LSTM)</th>\n",
       "    </tr>\n",
       "  </thead>\n",
       "  <tbody>\n",
       "    <tr>\n",
       "      <th>0</th>\n",
       "      <td>I hate getting up, it's so annoying.</td>\n",
       "      <td>neutral</td>\n",
       "      <td>0.733853</td>\n",
       "    </tr>\n",
       "    <tr>\n",
       "      <th>1</th>\n",
       "      <td>I love cats and their sweet noses.</td>\n",
       "      <td>joy</td>\n",
       "      <td>0.977139</td>\n",
       "    </tr>\n",
       "    <tr>\n",
       "      <th>2</th>\n",
       "      <td>I put up with my schoolmates.</td>\n",
       "      <td>neutral</td>\n",
       "      <td>0.905880</td>\n",
       "    </tr>\n",
       "    <tr>\n",
       "      <th>3</th>\n",
       "      <td>This movie made me feel so happy!</td>\n",
       "      <td>joy</td>\n",
       "      <td>0.646331</td>\n",
       "    </tr>\n",
       "    <tr>\n",
       "      <th>4</th>\n",
       "      <td>The traffic jam today was frustrating.</td>\n",
       "      <td>anger</td>\n",
       "      <td>0.524004</td>\n",
       "    </tr>\n",
       "    <tr>\n",
       "      <th>5</th>\n",
       "      <td>Spending time with friends always brings joy.</td>\n",
       "      <td>joy</td>\n",
       "      <td>0.926883</td>\n",
       "    </tr>\n",
       "    <tr>\n",
       "      <th>6</th>\n",
       "      <td>I feel lonely when I'm alone at home.</td>\n",
       "      <td>neutral</td>\n",
       "      <td>0.996206</td>\n",
       "    </tr>\n",
       "    <tr>\n",
       "      <th>7</th>\n",
       "      <td>Excited about the upcoming vacation!</td>\n",
       "      <td>neutral</td>\n",
       "      <td>0.920960</td>\n",
       "    </tr>\n",
       "    <tr>\n",
       "      <th>8</th>\n",
       "      <td>I love spending time with friends and family. ...</td>\n",
       "      <td>joy</td>\n",
       "      <td>0.858424</td>\n",
       "    </tr>\n",
       "    <tr>\n",
       "      <th>9</th>\n",
       "      <td>The rude behavior of that person made me reall...</td>\n",
       "      <td>anger</td>\n",
       "      <td>0.997394</td>\n",
       "    </tr>\n",
       "    <tr>\n",
       "      <th>10</th>\n",
       "      <td>I'm feeling neutral about the upcoming changes...</td>\n",
       "      <td>sadness</td>\n",
       "      <td>0.771090</td>\n",
       "    </tr>\n",
       "    <tr>\n",
       "      <th>11</th>\n",
       "      <td>Today is just another neutral day for me.</td>\n",
       "      <td>neutral</td>\n",
       "      <td>0.849713</td>\n",
       "    </tr>\n",
       "    <tr>\n",
       "      <th>12</th>\n",
       "      <td>The constant delays and issues with the projec...</td>\n",
       "      <td>anger</td>\n",
       "      <td>0.997881</td>\n",
       "    </tr>\n",
       "    <tr>\n",
       "      <th>13</th>\n",
       "      <td>Winning the lottery would bring me immense joy...</td>\n",
       "      <td>joy</td>\n",
       "      <td>0.975060</td>\n",
       "    </tr>\n",
       "    <tr>\n",
       "      <th>14</th>\n",
       "      <td>I don't have a strong opinion on the matter; I...</td>\n",
       "      <td>anger</td>\n",
       "      <td>0.493590</td>\n",
       "    </tr>\n",
       "    <tr>\n",
       "      <th>15</th>\n",
       "      <td>The news about the recent event left me in dee...</td>\n",
       "      <td>sadness</td>\n",
       "      <td>0.999897</td>\n",
       "    </tr>\n",
       "    <tr>\n",
       "      <th>16</th>\n",
       "      <td>Losing a loved one is an experience filled wit...</td>\n",
       "      <td>sadness</td>\n",
       "      <td>0.999865</td>\n",
       "    </tr>\n",
       "    <tr>\n",
       "      <th>17</th>\n",
       "      <td>I have a neutral stance on the current politic...</td>\n",
       "      <td>fear</td>\n",
       "      <td>0.478441</td>\n",
       "    </tr>\n",
       "    <tr>\n",
       "      <th>18</th>\n",
       "      <td>I'm so happy right now!</td>\n",
       "      <td>joy</td>\n",
       "      <td>0.981183</td>\n",
       "    </tr>\n",
       "    <tr>\n",
       "      <th>19</th>\n",
       "      <td>This is really frustrating.Feeling sad and lon...</td>\n",
       "      <td>sadness</td>\n",
       "      <td>0.748973</td>\n",
       "    </tr>\n",
       "    <tr>\n",
       "      <th>20</th>\n",
       "      <td>I can't contain my excitement!</td>\n",
       "      <td>neutral</td>\n",
       "      <td>0.562973</td>\n",
       "    </tr>\n",
       "    <tr>\n",
       "      <th>21</th>\n",
       "      <td>Angry about the recent events.</td>\n",
       "      <td>anger</td>\n",
       "      <td>0.803753</td>\n",
       "    </tr>\n",
       "    <tr>\n",
       "      <th>22</th>\n",
       "      <td>Today is a wonderful day!</td>\n",
       "      <td>joy</td>\n",
       "      <td>0.971229</td>\n",
       "    </tr>\n",
       "    <tr>\n",
       "      <th>23</th>\n",
       "      <td>Dealing with a lot of stress.</td>\n",
       "      <td>joy</td>\n",
       "      <td>0.521827</td>\n",
       "    </tr>\n",
       "    <tr>\n",
       "      <th>24</th>\n",
       "      <td>The movie made me cry, but it was beautiful.</td>\n",
       "      <td>neutral</td>\n",
       "      <td>0.882287</td>\n",
       "    </tr>\n",
       "    <tr>\n",
       "      <th>25</th>\n",
       "      <td>I'm thrilled about the upcoming project.</td>\n",
       "      <td>neutral</td>\n",
       "      <td>0.819227</td>\n",
       "    </tr>\n",
       "    <tr>\n",
       "      <th>26</th>\n",
       "      <td>Feeling a bit anxious about the presentation.</td>\n",
       "      <td>neutral</td>\n",
       "      <td>0.485139</td>\n",
       "    </tr>\n",
       "  </tbody>\n",
       "</table>\n",
       "</div>"
      ],
      "text/plain": [
       "                                                 Text  \\\n",
       "0                I hate getting up, it's so annoying.   \n",
       "1                  I love cats and their sweet noses.   \n",
       "2                       I put up with my schoolmates.   \n",
       "3                   This movie made me feel so happy!   \n",
       "4              The traffic jam today was frustrating.   \n",
       "5       Spending time with friends always brings joy.   \n",
       "6               I feel lonely when I'm alone at home.   \n",
       "7                Excited about the upcoming vacation!   \n",
       "8   I love spending time with friends and family. ...   \n",
       "9   The rude behavior of that person made me reall...   \n",
       "10  I'm feeling neutral about the upcoming changes...   \n",
       "11          Today is just another neutral day for me.   \n",
       "12  The constant delays and issues with the projec...   \n",
       "13  Winning the lottery would bring me immense joy...   \n",
       "14  I don't have a strong opinion on the matter; I...   \n",
       "15  The news about the recent event left me in dee...   \n",
       "16  Losing a loved one is an experience filled wit...   \n",
       "17  I have a neutral stance on the current politic...   \n",
       "18                            I'm so happy right now!   \n",
       "19  This is really frustrating.Feeling sad and lon...   \n",
       "20                     I can't contain my excitement!   \n",
       "21                     Angry about the recent events.   \n",
       "22                          Today is a wonderful day!   \n",
       "23                      Dealing with a lot of stress.   \n",
       "24       The movie made me cry, but it was beautiful.   \n",
       "25           I'm thrilled about the upcoming project.   \n",
       "26      Feeling a bit anxious about the presentation.   \n",
       "\n",
       "   Predicted Emotion (LSTM)  Probability (LSTM)  \n",
       "0                   neutral            0.733853  \n",
       "1                       joy            0.977139  \n",
       "2                   neutral            0.905880  \n",
       "3                       joy            0.646331  \n",
       "4                     anger            0.524004  \n",
       "5                       joy            0.926883  \n",
       "6                   neutral            0.996206  \n",
       "7                   neutral            0.920960  \n",
       "8                       joy            0.858424  \n",
       "9                     anger            0.997394  \n",
       "10                  sadness            0.771090  \n",
       "11                  neutral            0.849713  \n",
       "12                    anger            0.997881  \n",
       "13                      joy            0.975060  \n",
       "14                    anger            0.493590  \n",
       "15                  sadness            0.999897  \n",
       "16                  sadness            0.999865  \n",
       "17                     fear            0.478441  \n",
       "18                      joy            0.981183  \n",
       "19                  sadness            0.748973  \n",
       "20                  neutral            0.562973  \n",
       "21                    anger            0.803753  \n",
       "22                      joy            0.971229  \n",
       "23                      joy            0.521827  \n",
       "24                  neutral            0.882287  \n",
       "25                  neutral            0.819227  \n",
       "26                  neutral            0.485139  "
      ]
     },
     "execution_count": 34,
     "metadata": {},
     "output_type": "execute_result"
    }
   ],
   "source": [
    "emotions = [\n",
    "    \"I hate getting up, it's so annoying.\",\n",
    "    \"I love cats and their sweet noses.\",\n",
    "    \"I put up with my schoolmates.\",\n",
    "    \"This movie made me feel so happy!\",\n",
    "    \"The traffic jam today was frustrating.\",\n",
    "    \"Spending time with friends always brings joy.\",\n",
    "    \"I feel lonely when I'm alone at home.\",\n",
    "    \"Excited about the upcoming vacation!\",\n",
    "    \"I love spending time with friends and family. It brings me so much joy!\",\n",
    "    \"The rude behavior of that person made me really angry.\",\n",
    "    \"I'm feeling neutral about the upcoming changes at work.\",\n",
    "    \"Today is just another neutral day for me.\",\n",
    "    \"The constant delays and issues with the project are making me angry.\",\n",
    "    \"Winning the lottery would bring me immense joy and happiness!\",\n",
    "    \"I don't have a strong opinion on the matter; I'm feeling quite neutral.\",\n",
    "    \"The news about the recent event left me in deep sadness.\",\n",
    "    \"Losing a loved one is an experience filled with sadness and grief.\",\n",
    "    \"I have a neutral stance on the current political situation.\",\n",
    "    \"I'm so happy right now!\", \"This is really frustrating.\"\n",
    "    \"Feeling sad and lonely tonight.\",\n",
    "    \"I can't contain my excitement!\",\n",
    "    \"Angry about the recent events.\",\n",
    "    \"Today is a wonderful day!\",\n",
    "    \"Dealing with a lot of stress.\",\n",
    "    \"The movie made me cry, but it was beautiful.\",\n",
    "    \"I'm thrilled about the upcoming project.\",\n",
    "    \"Feeling a bit anxious about the presentation.\"\n",
    "]\n",
    "\n",
    "texts = []\n",
    "predicted_emotions_lstm = []\n",
    "probabilities_lstm = []\n",
    "\n",
    "for text in emotions:\n",
    "    preprocessed_text = preprocess_text(text)\n",
    "    \n",
    "    tokenized_text = tokenizer.texts_to_sequences([preprocessed_text])\n",
    "    padded_text = pad_sequences(tokenized_text, maxlen=max_sequence_length)\n",
    "    \n",
    "    prediction_proba_lstm = model.predict(padded_text)\n",
    "    \n",
    "    predicted_emotion_lstm = label_encoder.inverse_transform(prediction_proba_lstm.argmax(axis=1))[0]\n",
    "    probability_lstm = prediction_proba_lstm.max()\n",
    "    \n",
    "    texts.append(text)\n",
    "    predicted_emotions_lstm.append(predicted_emotion_lstm)\n",
    "    probabilities_lstm.append(probability_lstm)\n",
    "\n",
    "emotion_df_lstm = pd.DataFrame({'Text': texts, 'Predicted Emotion (LSTM)': predicted_emotions_lstm, 'Probability (LSTM)': probabilities_lstm})\n",
    "\n",
    "emotion_df_lstm\n"
   ]
  },
  {
   "cell_type": "code",
   "execution_count": 35,
   "id": "a853749a-c3e4-44f0-b65e-87f0255f9351",
   "metadata": {},
   "outputs": [
    {
     "name": "stdout",
     "output_type": "stream",
     "text": [
      "1/1 [==============================] - 0s 15ms/step\n",
      "Text: Today is a wonderful day!\t\n",
      "Predicted Emotion (LSTM): joy\n",
      "Probability (LSTM): 0.97\n",
      "Probabilities per class (LSTM): [('joy', 0.97122926), ('neutral', 0.023158265), ('sadness', 0.00332496), ('fear', 0.0022219492), ('anger', 6.549842e-05)]\n"
     ]
    }
   ],
   "source": [
    "text = \"Today is a wonderful day!\t\"\n",
    "\n",
    "preprocessed_text = preprocess_text(text)\n",
    "\n",
    "tokenized_text = tokenizer.texts_to_sequences([preprocessed_text])\n",
    "padded_text = pad_sequences(tokenized_text, maxlen=max_sequence_length)\n",
    "\n",
    "prediction_proba_lstm = model.predict(padded_text)\n",
    "\n",
    "predicted_emotion_lstm = label_encoder.inverse_transform(prediction_proba_lstm.argmax(axis=1))[0]\n",
    "probability_lstm = prediction_proba_lstm.max()\n",
    "\n",
    "sorted_probabilities_lstm = sorted(zip(label_encoder.classes_, prediction_proba_lstm.flatten()), key=lambda x: x[1], reverse=True)\n",
    "\n",
    "print(f\"Text: {text}\\nPredicted Emotion (LSTM): {predicted_emotion_lstm}\\nProbability (LSTM): {probability_lstm:.2f}\")\n",
    "print(f\"Probabilities per class (LSTM): {sorted_probabilities_lstm}\")\n"
   ]
  },
  {
   "cell_type": "code",
   "execution_count": 46,
   "id": "8fca39ec",
   "metadata": {},
   "outputs": [
    {
     "name": "stdout",
     "output_type": "stream",
     "text": [
      "1/1 [==============================] - 0s 15ms/step\n",
      "Text: I'm afraid of spiders, they're so big!\n",
      "Predicted Emotion (LSTM): fear\n",
      "Probability (LSTM): 0.99\n",
      "Probabilities per class (LSTM): [('fear', 0.9944095), ('joy', 0.0049989815), ('neutral', 0.00037351483), ('sadness', 0.00017394901), ('anger', 4.4041135e-05)]\n"
     ]
    }
   ],
   "source": [
    "text = \"I'm afraid of spiders, they're so big!\"\n",
    "\n",
    "preprocessed_text = preprocess_text(text)\n",
    "\n",
    "tokenized_text = tokenizer.texts_to_sequences([preprocessed_text])\n",
    "padded_text = pad_sequences(tokenized_text, maxlen=max_sequence_length)\n",
    "\n",
    "prediction_proba_lstm = model.predict(padded_text)\n",
    "\n",
    "predicted_emotion_lstm = label_encoder.inverse_transform(prediction_proba_lstm.argmax(axis=1))[0]\n",
    "probability_lstm = prediction_proba_lstm.max()\n",
    "\n",
    "sorted_probabilities_lstm = sorted(zip(label_encoder.classes_, prediction_proba_lstm.flatten()), key=lambda x: x[1], reverse=True)\n",
    "\n",
    "print(f\"Text: {text}\\nPredicted Emotion (LSTM): {predicted_emotion_lstm}\\nProbability (LSTM): {probability_lstm:.2f}\")\n",
    "print(f\"Probabilities per class (LSTM): {sorted_probabilities_lstm}\")\n"
   ]
  },
  {
   "cell_type": "code",
   "execution_count": 36,
   "id": "5a2dc2df",
   "metadata": {},
   "outputs": [
    {
     "name": "stdout",
     "output_type": "stream",
     "text": [
      "1/1 [==============================] - 0s 15ms/step\n",
      "Text: The air crackles with tension, and the world feels like a pressure cooker about to explode. Every step is heavy, and the rhythm of life echoes with the discordant beats of frustration. It's as if the very air is charged with an unsettling energy, ready to unleash the storm that brews within.\n",
      "\n",
      "The smallest inconveniences become fuel for the fiery furnace of anger, each frustration adding another log to the burning resentment. Words hang in the air, sharp and cutting, like daggers seeking release from the depths of irritation. The world seems painted in shades of red, a visual representation of the simmering rage beneath the surface.\n",
      "\n",
      "In this moment, control feels elusive, slipping through clenched fists like sand. The desire to scream or slam doors becomes a tempting release, an outlet for the building resentment. The very fabric of patience feels threadbare, stretched to its limit, threatening to unravel at the slightest provocation.\n",
      "Predicted Emotion (LSTM): anger\n",
      "Probability (LSTM): 1.00\n",
      "Probabilities per class (LSTM): [('anger', 0.99998856), ('fear', 8.913743e-06), ('sadness', 1.6890366e-06), ('neutral', 4.4871513e-07), ('joy', 3.4394247e-07)]\n"
     ]
    }
   ],
   "source": [
    "text = \"\"\"The air crackles with tension, and the world feels like a pressure cooker about to explode. Every step is heavy, and the rhythm of life echoes with the discordant beats of frustration. It's as if the very air is charged with an unsettling energy, ready to unleash the storm that brews within.\n",
    "\n",
    "The smallest inconveniences become fuel for the fiery furnace of anger, each frustration adding another log to the burning resentment. Words hang in the air, sharp and cutting, like daggers seeking release from the depths of irritation. The world seems painted in shades of red, a visual representation of the simmering rage beneath the surface.\n",
    "\n",
    "In this moment, control feels elusive, slipping through clenched fists like sand. The desire to scream or slam doors becomes a tempting release, an outlet for the building resentment. The very fabric of patience feels threadbare, stretched to its limit, threatening to unravel at the slightest provocation.\"\"\"\n",
    "\n",
    "preprocessed_text = preprocess_text(text)\n",
    "\n",
    "tokenized_text = tokenizer.texts_to_sequences([preprocessed_text])\n",
    "padded_text = pad_sequences(tokenized_text, maxlen=max_sequence_length)\n",
    "\n",
    "prediction_proba_lstm = model.predict(padded_text)\n",
    "\n",
    "predicted_emotion_lstm = label_encoder.inverse_transform(prediction_proba_lstm.argmax(axis=1))[0]\n",
    "probability_lstm = prediction_proba_lstm.max()\n",
    "\n",
    "sorted_probabilities_lstm = sorted(zip(label_encoder.classes_, prediction_proba_lstm.flatten()), key=lambda x: x[1], reverse=True)\n",
    "\n",
    "print(f\"Text: {text}\\nPredicted Emotion (LSTM): {predicted_emotion_lstm}\\nProbability (LSTM): {probability_lstm:.2f}\")\n",
    "print(f\"Probabilities per class (LSTM): {sorted_probabilities_lstm}\")\n",
    "\n"
   ]
  },
  {
   "cell_type": "code",
   "execution_count": 37,
   "id": "0a427f80",
   "metadata": {},
   "outputs": [
    {
     "name": "stdout",
     "output_type": "stream",
     "text": [
      "1/1 [==============================] - 0s 15ms/step\n",
      "Text: In the quietude of solitude, a heavy fog of sadness descends, enveloping the world in a muted palette of gray. Each breath feels like a burden, and the air is thick with the weight of unspoken sorrows. The echo of a distant sigh seems to reverberate through the emptiness, a haunting melody of melancholy.\n",
      "\n",
      "Every step is laden with the echoes of past heartaches, and the landscape is painted with the brushstrokes of unshed tears. The world, once vibrant and alive, now appears as a desolate tableau, a reflection of the internal storm that rages within. The rhythm of life slows to a somber cadence, mirroring the heavy heart that beats in sync with the sorrowful symphony.\n",
      "\n",
      "Gazing out through the window, raindrops trace their lonely paths, a metaphor for the tears that refuse to fall. The silence is broken only by the occasional gentle patter, a lullaby for the dispirited soul. The ache is palpable, an emotional bruise that colors every interaction with a tinge of muted blue.\n",
      "Predicted Emotion (LSTM): sadness\n",
      "Probability (LSTM): 0.61\n",
      "Probabilities per class (LSTM): [('sadness', 0.612391), ('fear', 0.11628575), ('joy', 0.112317294), ('anger', 0.09680336), ('neutral', 0.0622026)]\n"
     ]
    }
   ],
   "source": [
    "text = \"\"\"In the quietude of solitude, a heavy fog of sadness descends, enveloping the world in a muted palette of gray. Each breath feels like a burden, and the air is thick with the weight of unspoken sorrows. The echo of a distant sigh seems to reverberate through the emptiness, a haunting melody of melancholy.\n",
    "\n",
    "Every step is laden with the echoes of past heartaches, and the landscape is painted with the brushstrokes of unshed tears. The world, once vibrant and alive, now appears as a desolate tableau, a reflection of the internal storm that rages within. The rhythm of life slows to a somber cadence, mirroring the heavy heart that beats in sync with the sorrowful symphony.\n",
    "\n",
    "Gazing out through the window, raindrops trace their lonely paths, a metaphor for the tears that refuse to fall. The silence is broken only by the occasional gentle patter, a lullaby for the dispirited soul. The ache is palpable, an emotional bruise that colors every interaction with a tinge of muted blue.\"\"\"\n",
    "\n",
    "preprocessed_text = preprocess_text(text)\n",
    "\n",
    "tokenized_text = tokenizer.texts_to_sequences([preprocessed_text])\n",
    "padded_text = pad_sequences(tokenized_text, maxlen=max_sequence_length)\n",
    "\n",
    "prediction_proba_lstm = model.predict(padded_text)\n",
    "\n",
    "predicted_emotion_lstm = label_encoder.inverse_transform(prediction_proba_lstm.argmax(axis=1))[0]\n",
    "probability_lstm = prediction_proba_lstm.max()\n",
    "\n",
    "sorted_probabilities_lstm = sorted(zip(label_encoder.classes_, prediction_proba_lstm.flatten()), key=lambda x: x[1], reverse=True)\n",
    "\n",
    "print(f\"Text: {text}\\nPredicted Emotion (LSTM): {predicted_emotion_lstm}\\nProbability (LSTM): {probability_lstm:.2f}\")\n",
    "print(f\"Probabilities per class (LSTM): {sorted_probabilities_lstm}\")\n",
    "\n"
   ]
  },
  {
   "cell_type": "code",
   "execution_count": 38,
   "id": "56d0195d",
   "metadata": {},
   "outputs": [
    {
     "name": "stdout",
     "output_type": "stream",
     "text": [
      "1/1 [==============================] - 0s 14ms/step\n",
      "Text: Waking up to the warm embrace of sunshine, the world seems to sparkle with endless possibilities. A symphony of birdsong dances through the air, creating a melody that resonates with the rhythm of joy. Today is not just a day; it's a canvas waiting to be painted with vibrant hues of happiness.\n",
      "\n",
      "As I step outside, a gentle breeze carries whispers of optimism, and the flowers in bloom release a fragrance that feels like nature's way of smiling. There's an infectious energy in the atmosphere, a reminder that life is a grand celebration, and every moment is a chance to dance to the melody of our own existence.\n",
      "\n",
      "In the midst of this symphony of joy, even the mundane becomes extraordinary. The rhythmic tapping of my footsteps on the pavement transforms into a cheerful beat, syncopating with the pulse of life. The world seems to applaud my every move, as if nature itself is cheering me on.\n",
      "\n",
      "Meeting the gaze of a stranger, there's a shared recognition of the beauty that surrounds us. It's as if joy is a secret language, and we are all fluent in its expression. Laughter becomes the currency of the day, exchanged freely between friends and strangers alike, creating a tapestry of shared happiness.\n",
      "Predicted Emotion (LSTM): joy\n",
      "Probability (LSTM): 1.00\n",
      "Probabilities per class (LSTM): [('joy', 0.9999908), ('sadness', 8.019851e-06), ('fear', 7.7546434e-07), ('anger', 2.8479272e-07), ('neutral', 2.0562756e-07)]\n"
     ]
    }
   ],
   "source": [
    "text = \"\"\"Waking up to the warm embrace of sunshine, the world seems to sparkle with endless possibilities. A symphony of birdsong dances through the air, creating a melody that resonates with the rhythm of joy. Today is not just a day; it's a canvas waiting to be painted with vibrant hues of happiness.\n",
    "\n",
    "As I step outside, a gentle breeze carries whispers of optimism, and the flowers in bloom release a fragrance that feels like nature's way of smiling. There's an infectious energy in the atmosphere, a reminder that life is a grand celebration, and every moment is a chance to dance to the melody of our own existence.\n",
    "\n",
    "In the midst of this symphony of joy, even the mundane becomes extraordinary. The rhythmic tapping of my footsteps on the pavement transforms into a cheerful beat, syncopating with the pulse of life. The world seems to applaud my every move, as if nature itself is cheering me on.\n",
    "\n",
    "Meeting the gaze of a stranger, there's a shared recognition of the beauty that surrounds us. It's as if joy is a secret language, and we are all fluent in its expression. Laughter becomes the currency of the day, exchanged freely between friends and strangers alike, creating a tapestry of shared happiness.\"\"\"\n",
    "\n",
    "preprocessed_text = preprocess_text(text)\n",
    "\n",
    "tokenized_text = tokenizer.texts_to_sequences([preprocessed_text])\n",
    "padded_text = pad_sequences(tokenized_text, maxlen=max_sequence_length)\n",
    "\n",
    "prediction_proba_lstm = model.predict(padded_text)\n",
    "\n",
    "predicted_emotion_lstm = label_encoder.inverse_transform(prediction_proba_lstm.argmax(axis=1))[0]\n",
    "probability_lstm = prediction_proba_lstm.max()\n",
    "\n",
    "sorted_probabilities_lstm = sorted(zip(label_encoder.classes_, prediction_proba_lstm.flatten()), key=lambda x: x[1], reverse=True)\n",
    "\n",
    "print(f\"Text: {text}\\nPredicted Emotion (LSTM): {predicted_emotion_lstm}\\nProbability (LSTM): {probability_lstm:.2f}\")\n",
    "print(f\"Probabilities per class (LSTM): {sorted_probabilities_lstm}\")\n",
    "\n"
   ]
  },
  {
   "cell_type": "code",
   "execution_count": 40,
   "id": "bed1df86-2640-4961-8773-e431291684f0",
   "metadata": {},
   "outputs": [],
   "source": [
    "model.save('lstm_model/lstm_model.keras')"
   ]
  },
  {
   "cell_type": "code",
   "execution_count": 12,
   "id": "93ca8475-c544-4c94-93a3-ad8526a37314",
   "metadata": {},
   "outputs": [],
   "source": [
    "loaded_lstm_model = load_model('models/lstm_model/lstm_model.keras')"
   ]
  },
  {
   "cell_type": "code",
   "execution_count": 13,
   "id": "20a37563-1309-4ec9-8e8c-4a377c43f614",
   "metadata": {},
   "outputs": [
    {
     "name": "stdout",
     "output_type": "stream",
     "text": [
      "1/1 [==============================] - 0s 342ms/step\n",
      "Text: Today is a wonderful excitement day!\n",
      "Predicted Emotion (LSTM): joy\n",
      "Probability (LSTM): 0.99\n",
      "Probabilities per class (LSTM): [('joy', 0.99302834), ('neutral', 0.0028970654), ('sadness', 0.002856291), ('fear', 0.0011492128), ('anger', 6.897687e-05)]\n"
     ]
    }
   ],
   "source": [
    "text = \"Today is a wonderful excitement day!\"\n",
    "\n",
    "preprocessed_text = preprocess_text(text)\n",
    "\n",
    "tokenized_text = tokenizer.texts_to_sequences([preprocessed_text])\n",
    "padded_text = pad_sequences(tokenized_text, maxlen=max_sequence_length)\n",
    "\n",
    "prediction_proba_lstm = loaded_lstm_model.predict(padded_text)\n",
    "\n",
    "predicted_emotion_lstm = label_encoder.inverse_transform(prediction_proba_lstm.argmax(axis=1))[0]\n",
    "probability_lstm = prediction_proba_lstm.max()\n",
    "\n",
    "sorted_probabilities_lstm = sorted(zip(label_encoder.classes_, prediction_proba_lstm.flatten()), key=lambda x: x[1], reverse=True)\n",
    "\n",
    "print(f\"Text: {text}\\nPredicted Emotion (LSTM): {predicted_emotion_lstm}\\nProbability (LSTM): {probability_lstm:.2f}\")\n",
    "print(f\"Probabilities per class (LSTM): {sorted_probabilities_lstm}\")\n"
   ]
  },
  {
   "cell_type": "code",
   "execution_count": 14,
   "id": "cfa084dd-f5c0-454d-b811-181540a4e244",
   "metadata": {},
   "outputs": [
    {
     "name": "stdout",
     "output_type": "stream",
     "text": [
      "1/1 [==============================] - 0s 15ms/step\n",
      "Text: Ugh, today at school was an absolute disaster! I can't believe how frustrating and infuriating it was. From the moment I walked through those doors, everything seemed designed to drive me crazy. The teachers were on some kind of power trip, handing out assignments like they wanted to ruin my day.\n",
      "\n",
      "And don't even get me started on my classmates. It's like they were all competing for the title of most obnoxious person alive. They couldn't stop gossiping, interrupting, and just generally being insufferable. I couldn't catch a break, not even during lunch, where the cafeteria food tasted like cardboard soaked in disappointment.\n",
      "\n",
      "The worst part? No one seemed to care about anything but themselves. I tried to focus on my work, but the constant noise and chaos made it impossible. It's like the universe conspired to make today the worst day of my entire academic existence.\n",
      "\n",
      "I'm so fed up with this nonsense. School should be a place of learning and growth, not a breeding ground for frustration and irritation. I can't wait to put this dreadful day behind me and hope that tomorrow brings some semblance of sanity.\n",
      "Predicted Emotion (LSTM): sadness\n",
      "Probability (LSTM): 0.97\n",
      "Probabilities per class (LSTM): [('sadness', 0.9737028), ('fear', 0.012600506), ('anger', 0.00757322), ('joy', 0.0035989196), ('neutral', 0.0025245654)]\n"
     ]
    }
   ],
   "source": [
    "text = \"\"\"Ugh, today at school was an absolute disaster! I can't believe how frustrating and infuriating it was. From the moment I walked through those doors, everything seemed designed to drive me crazy. The teachers were on some kind of power trip, handing out assignments like they wanted to ruin my day.\n",
    "\n",
    "And don't even get me started on my classmates. It's like they were all competing for the title of most obnoxious person alive. They couldn't stop gossiping, interrupting, and just generally being insufferable. I couldn't catch a break, not even during lunch, where the cafeteria food tasted like cardboard soaked in disappointment.\n",
    "\n",
    "The worst part? No one seemed to care about anything but themselves. I tried to focus on my work, but the constant noise and chaos made it impossible. It's like the universe conspired to make today the worst day of my entire academic existence.\n",
    "\n",
    "I'm so fed up with this nonsense. School should be a place of learning and growth, not a breeding ground for frustration and irritation. I can't wait to put this dreadful day behind me and hope that tomorrow brings some semblance of sanity.\"\"\"\n",
    "\n",
    "preprocessed_text = preprocess_text(text)\n",
    "\n",
    "tokenized_text = tokenizer.texts_to_sequences([preprocessed_text])\n",
    "padded_text = pad_sequences(tokenized_text, maxlen=max_sequence_length)\n",
    "\n",
    "prediction_proba_lstm = loaded_lstm_model.predict(padded_text)\n",
    "\n",
    "predicted_emotion_lstm = label_encoder.inverse_transform(prediction_proba_lstm.argmax(axis=1))[0]\n",
    "probability_lstm = prediction_proba_lstm.max()\n",
    "\n",
    "sorted_probabilities_lstm = sorted(zip(label_encoder.classes_, prediction_proba_lstm.flatten()), key=lambda x: x[1], reverse=True)\n",
    "\n",
    "print(f\"Text: {text}\\nPredicted Emotion (LSTM): {predicted_emotion_lstm}\\nProbability (LSTM): {probability_lstm:.2f}\")\n",
    "print(f\"Probabilities per class (LSTM): {sorted_probabilities_lstm}\")\n"
   ]
  },
  {
   "cell_type": "code",
   "execution_count": null,
   "id": "70319db8-7457-46ac-b12a-c5a06dfc8ef2",
   "metadata": {},
   "outputs": [],
   "source": []
  },
  {
   "cell_type": "code",
   "execution_count": null,
   "id": "be230852-2e84-4f47-89e0-2251f1631038",
   "metadata": {},
   "outputs": [],
   "source": []
  }
 ],
 "metadata": {
  "kernelspec": {
   "display_name": "Python 3 (ipykernel)",
   "language": "python",
   "name": "python3"
  },
  "language_info": {
   "codemirror_mode": {
    "name": "ipython",
    "version": 3
   },
   "file_extension": ".py",
   "mimetype": "text/x-python",
   "name": "python",
   "nbconvert_exporter": "python",
   "pygments_lexer": "ipython3",
   "version": "3.11.3"
  }
 },
 "nbformat": 4,
 "nbformat_minor": 5
}
