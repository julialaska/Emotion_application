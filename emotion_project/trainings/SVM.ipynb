{
 "cells": [
  {
   "cell_type": "code",
   "execution_count": 1,
   "id": "ea7268f9-57fc-4cad-a850-226c7f9fcaf9",
   "metadata": {},
   "outputs": [
    {
     "name": "stdout",
     "output_type": "stream",
     "text": [
      "WARNING:tensorflow:From C:\\Users\\Julia\\AppData\\Local\\Programs\\Python\\Python311\\Lib\\site-packages\\keras\\src\\losses.py:2976: The name tf.losses.sparse_softmax_cross_entropy is deprecated. Please use tf.compat.v1.losses.sparse_softmax_cross_entropy instead.\n",
      "\n"
     ]
    }
   ],
   "source": [
    "import re\n",
    "import pandas as pd\n",
    "import numpy as np\n",
    "import joblib\n",
    "from sklearn.model_selection import train_test_split\n",
    "from tensorflow.keras.preprocessing.text import Tokenizer\n",
    "from tensorflow.keras.preprocessing.sequence import pad_sequences\n",
    "from tensorflow.keras.models import Sequential\n",
    "from tensorflow.keras.layers import Embedding, LSTM, Dense\n",
    "from sklearn.preprocessing import LabelEncoder\n",
    "from sklearn import svm\n",
    "from nltk import PorterStemmer, word_tokenize\n",
    "from nltk.corpus import stopwords\n",
    "import unidecode\n",
    "from sklearn.feature_extraction.text import TfidfVectorizer\n",
    "from sklearn.metrics import accuracy_score \n",
    "from sklearn.metrics import precision_score\n",
    "from sklearn.metrics import recall_score\n",
    "from sklearn.metrics import f1_score\n",
    "from sklearn.metrics import classification_report\n",
    "from nltk.stem import SnowballStemmer"
   ]
  },
  {
   "cell_type": "code",
   "execution_count": 2,
   "id": "90c5bb84-7dd5-4f93-8f7d-e200e08236b8",
   "metadata": {},
   "outputs": [],
   "source": [
    "train_data = pd.read_csv('data/wassa_train.csv')\n",
    "test_data = pd.read_csv('data/wassa_test.csv')\n",
    "val_data = pd.read_csv('data/wassa_val.csv')"
   ]
  },
  {
   "cell_type": "code",
   "execution_count": 3,
   "id": "fbafa9dc-8be5-4aba-9353-7101a175fd31",
   "metadata": {},
   "outputs": [
    {
     "data": {
      "text/html": [
       "<div>\n",
       "<style scoped>\n",
       "    .dataframe tbody tr th:only-of-type {\n",
       "        vertical-align: middle;\n",
       "    }\n",
       "\n",
       "    .dataframe tbody tr th {\n",
       "        vertical-align: top;\n",
       "    }\n",
       "\n",
       "    .dataframe thead th {\n",
       "        text-align: right;\n",
       "    }\n",
       "</style>\n",
       "<table border=\"1\" class=\"dataframe\">\n",
       "  <thead>\n",
       "    <tr style=\"text-align: right;\">\n",
       "      <th></th>\n",
       "      <th>id</th>\n",
       "      <th>tweet</th>\n",
       "      <th>emotion</th>\n",
       "    </tr>\n",
       "  </thead>\n",
       "  <tbody>\n",
       "    <tr>\n",
       "      <th>0</th>\n",
       "      <td>1929</td>\n",
       "      <td>Kinda wished I watched mischievous kiss before...</td>\n",
       "      <td>joy</td>\n",
       "    </tr>\n",
       "    <tr>\n",
       "      <th>1</th>\n",
       "      <td>4049</td>\n",
       "      <td>When you forget to mention you were bought dre...</td>\n",
       "      <td>anger</td>\n",
       "    </tr>\n",
       "    <tr>\n",
       "      <th>2</th>\n",
       "      <td>5405</td>\n",
       "      <td>@FreyaLynn @donniewahlberg yep! jimmy buffett ...</td>\n",
       "      <td>neutral</td>\n",
       "    </tr>\n",
       "    <tr>\n",
       "      <th>3</th>\n",
       "      <td>5900</td>\n",
       "      <td>@philcampbell blue skies? where, it's still gr...</td>\n",
       "      <td>neutral</td>\n",
       "    </tr>\n",
       "    <tr>\n",
       "      <th>4</th>\n",
       "      <td>3712</td>\n",
       "      <td>Some moving clips on youtube tonight of the vi...</td>\n",
       "      <td>anger</td>\n",
       "    </tr>\n",
       "    <tr>\n",
       "      <th>...</th>\n",
       "      <td>...</td>\n",
       "      <td>...</td>\n",
       "      <td>...</td>\n",
       "    </tr>\n",
       "    <tr>\n",
       "      <th>5996</th>\n",
       "      <td>5407</td>\n",
       "      <td>@koifusionpdx i was so close to the tacos...on...</td>\n",
       "      <td>neutral</td>\n",
       "    </tr>\n",
       "    <tr>\n",
       "      <th>5997</th>\n",
       "      <td>496</td>\n",
       "      <td>@Fatumoriginal there's no sitcom better! If u ...</td>\n",
       "      <td>sadness</td>\n",
       "    </tr>\n",
       "    <tr>\n",
       "      <th>5998</th>\n",
       "      <td>499</td>\n",
       "      <td>@Mysteri759 @Ren102e906 @slb42jcb @swoozyqyah ...</td>\n",
       "      <td>sadness</td>\n",
       "    </tr>\n",
       "    <tr>\n",
       "      <th>5999</th>\n",
       "      <td>1784</td>\n",
       "      <td>Watch this amazing live.ly broadcast by @ittzd...</td>\n",
       "      <td>joy</td>\n",
       "    </tr>\n",
       "    <tr>\n",
       "      <th>6000</th>\n",
       "      <td>4829</td>\n",
       "      <td>@daniellemhicks lol what!! where is it!</td>\n",
       "      <td>neutral</td>\n",
       "    </tr>\n",
       "  </tbody>\n",
       "</table>\n",
       "<p>6001 rows × 3 columns</p>\n",
       "</div>"
      ],
      "text/plain": [
       "        id                                              tweet  emotion\n",
       "0     1929  Kinda wished I watched mischievous kiss before...      joy\n",
       "1     4049  When you forget to mention you were bought dre...    anger\n",
       "2     5405  @FreyaLynn @donniewahlberg yep! jimmy buffett ...  neutral\n",
       "3     5900  @philcampbell blue skies? where, it's still gr...  neutral\n",
       "4     3712  Some moving clips on youtube tonight of the vi...    anger\n",
       "...    ...                                                ...      ...\n",
       "5996  5407  @koifusionpdx i was so close to the tacos...on...  neutral\n",
       "5997   496  @Fatumoriginal there's no sitcom better! If u ...  sadness\n",
       "5998   499  @Mysteri759 @Ren102e906 @slb42jcb @swoozyqyah ...  sadness\n",
       "5999  1784  Watch this amazing live.ly broadcast by @ittzd...      joy\n",
       "6000  4829            @daniellemhicks lol what!! where is it!  neutral\n",
       "\n",
       "[6001 rows x 3 columns]"
      ]
     },
     "execution_count": 3,
     "metadata": {},
     "output_type": "execute_result"
    }
   ],
   "source": [
    "train_data"
   ]
  },
  {
   "cell_type": "code",
   "execution_count": 4,
   "id": "d8780765-b199-43d3-9126-9aa4837ef125",
   "metadata": {},
   "outputs": [],
   "source": [
    "def preprocess_text(text):\n",
    "    result = text.lower()\n",
    "    result = result.strip()\n",
    "    result = re.result = re.sub(r\"http\\S+\", \"\", result)\n",
    "    result = re.sub('\\S*@\\S*\\s?', '', result)\n",
    "    result = unidecode.unidecode(result)\n",
    "    stop_words = stopwords.words(\"english\")\n",
    "    word_list = word_tokenize(result)\n",
    "    # english stemmer\n",
    "    ps = SnowballStemmer(\"english\")\n",
    "\n",
    "    stemmed_sentence = \"\"\n",
    "    for word in word_list:\n",
    "        if word not in stop_words:\n",
    "            stemmed_sentence += word\n",
    "            stemmed_sentence += \" \"\n",
    "\n",
    "    result = stemmed_sentence\n",
    "    whitelist = set('abcdefghijklmnopqrstuvwxyz ABCDEFGHIJKLMNOPQRSTUVWXYZ')\n",
    "    result = ''.join(filter(whitelist.__contains__, result))\n",
    "    result = ''.join([i for i in result if not i.isdigit()])\n",
    "    return result"
   ]
  },
  {
   "cell_type": "code",
   "execution_count": 5,
   "id": "6b7ddb23-edc0-4b21-9e1b-3070312a994e",
   "metadata": {},
   "outputs": [],
   "source": [
    "\n",
    "def preprocess_text_list(text_list):\n",
    "  for i,text in enumerate(text_list):\n",
    "    text_list[i] = preprocess_text(text_list[i])"
   ]
  },
  {
   "cell_type": "code",
   "execution_count": 6,
   "id": "afc37feb-e547-40ce-a0c0-4c23e313363c",
   "metadata": {},
   "outputs": [
    {
     "data": {
      "text/plain": [
       "['joy',\n",
       " 'anger',\n",
       " 'neutral',\n",
       " 'neutral',\n",
       " 'anger',\n",
       " 'joy',\n",
       " 'neutral',\n",
       " 'sadness',\n",
       " 'sadness',\n",
       " 'neutral']"
      ]
     },
     "execution_count": 6,
     "metadata": {},
     "output_type": "execute_result"
    }
   ],
   "source": [
    "train_texts = train_data[\"tweet\"].tolist()\n",
    "val_texts = val_data[\"tweet\"].tolist()\n",
    "test_texts = test_data[\"tweet\"].tolist()\n",
    "\n",
    "\n",
    "train_labels = train_data[\"emotion\"].tolist()\n",
    "val_labels = val_data[\"emotion\"].tolist()\n",
    "test_labels = test_data[\"emotion\"].tolist()\n",
    "\n",
    "train_labels[:10]\n",
    "     "
   ]
  },
  {
   "cell_type": "code",
   "execution_count": 7,
   "id": "8242b721-0576-44ef-9b8f-f436ee55b8ca",
   "metadata": {},
   "outputs": [
    {
     "data": {
      "text/plain": [
       "['kinda wished watched mischievous kiss playful kiss ',\n",
       " 'forget mention bought dreamboys tickets ',\n",
       " 'yep  jimmy buffett ftw     jimmy needs tweet words wisdom every morning ',\n",
       " 'blue skies   s still grey hazy window ',\n",
       " 'moving clips youtube tonight vigil held tulsa metropolitan baptist church  terencecruther  justice  sadness ',\n",
       " 'makes successful  happy forever ',\n",
       " 'morning hon  breakfast  cant decide ',\n",
       " 'standard candice starting show pout  startasyoumeantogoon  gbbo ',\n",
       " '   would frown bit  folding arms  why every time m need assistance someone expects lil   ',\n",
       " 'someone make cofffeeeeeee  ']"
      ]
     },
     "execution_count": 7,
     "metadata": {},
     "output_type": "execute_result"
    }
   ],
   "source": [
    "preprocess_text_list(train_texts)\n",
    "preprocess_text_list(val_texts)\n",
    "preprocess_text_list(test_texts)\n",
    "\n",
    "train_texts[:10]"
   ]
  },
  {
   "cell_type": "code",
   "execution_count": 8,
   "id": "af032df3-01fa-4554-be7e-656886cea632",
   "metadata": {},
   "outputs": [],
   "source": [
    "tokenizer = Tokenizer()\n",
    "tokenizer.fit_on_texts(train_texts)"
   ]
  },
  {
   "cell_type": "code",
   "execution_count": 9,
   "id": "d2a16cb9-c344-4250-ba13-c3b630bc8166",
   "metadata": {},
   "outputs": [],
   "source": [
    "X_train = tokenizer.texts_to_sequences(train_texts)\n",
    "X_val = tokenizer.texts_to_sequences(val_texts)\n",
    "X_test = tokenizer.texts_to_sequences(test_texts)\n",
    "\n",
    "X_train = pad_sequences(X_train)\n",
    "X_val = pad_sequences(X_val, maxlen=X_train.shape[1])\n",
    "X_test = pad_sequences(X_test, maxlen=X_train.shape[1])\n"
   ]
  },
  {
   "cell_type": "code",
   "execution_count": 10,
   "id": "e0ba755a-202d-4daa-b81c-b3471e79fd30",
   "metadata": {},
   "outputs": [],
   "source": [
    "label_encoder = LabelEncoder()\n",
    "y_train = label_encoder.fit_transform(train_data['emotion'])\n",
    "y_val = label_encoder.transform(val_data['emotion'])\n",
    "y_test = label_encoder.transform(test_data['emotion'])"
   ]
  },
  {
   "cell_type": "code",
   "execution_count": 11,
   "id": "d69fd907-e49b-4bc2-b23f-ebd7beaf6997",
   "metadata": {},
   "outputs": [],
   "source": [
    "embedding_dim = 50\n",
    "vocab_size = len(tokenizer.word_index) + 1"
   ]
  },
  {
   "cell_type": "code",
   "execution_count": 12,
   "id": "690159d7-1b0b-4576-9a73-e55bc142e571",
   "metadata": {},
   "outputs": [
    {
     "name": "stdout",
     "output_type": "stream",
     "text": [
      "WARNING:tensorflow:From C:\\Users\\Julia\\AppData\\Local\\Programs\\Python\\Python311\\Lib\\site-packages\\keras\\src\\backend.py:873: The name tf.get_default_graph is deprecated. Please use tf.compat.v1.get_default_graph instead.\n",
      "\n"
     ]
    }
   ],
   "source": [
    "model = Sequential()\n",
    "model.add(Embedding(input_dim=vocab_size, output_dim=embedding_dim, input_length=X_train.shape[1]))\n",
    "model.add(LSTM(100))\n",
    "model.add(Dense(1, activation='sigmoid'))"
   ]
  },
  {
   "cell_type": "code",
   "execution_count": 13,
   "id": "85018a59-1ce1-471b-a500-d69f1dcb7e1a",
   "metadata": {},
   "outputs": [
    {
     "name": "stdout",
     "output_type": "stream",
     "text": [
      "WARNING:tensorflow:From C:\\Users\\Julia\\AppData\\Local\\Programs\\Python\\Python311\\Lib\\site-packages\\keras\\src\\optimizers\\__init__.py:309: The name tf.train.Optimizer is deprecated. Please use tf.compat.v1.train.Optimizer instead.\n",
      "\n"
     ]
    }
   ],
   "source": [
    "model.compile(optimizer='adam', loss='binary_crossentropy', metrics=['accuracy'])"
   ]
  },
  {
   "cell_type": "code",
   "execution_count": 14,
   "id": "d338319c-00e2-4f12-94a1-1a4ce85b1603",
   "metadata": {},
   "outputs": [
    {
     "name": "stdout",
     "output_type": "stream",
     "text": [
      "Epoch 1/5\n",
      "WARNING:tensorflow:From C:\\Users\\Julia\\AppData\\Local\\Programs\\Python\\Python311\\Lib\\site-packages\\keras\\src\\utils\\tf_utils.py:492: The name tf.ragged.RaggedTensorValue is deprecated. Please use tf.compat.v1.ragged.RaggedTensorValue instead.\n",
      "\n",
      "WARNING:tensorflow:From C:\\Users\\Julia\\AppData\\Local\\Programs\\Python\\Python311\\Lib\\site-packages\\keras\\src\\engine\\base_layer_utils.py:384: The name tf.executing_eagerly_outside_functions is deprecated. Please use tf.compat.v1.executing_eagerly_outside_functions instead.\n",
      "\n",
      "188/188 [==============================] - 3s 9ms/step - loss: -18.4054 - accuracy: 0.2000 - val_loss: -29.9486 - val_accuracy: 0.2000\n",
      "Epoch 2/5\n",
      "188/188 [==============================] - 1s 7ms/step - loss: -39.5076 - accuracy: 0.2000 - val_loss: -48.9124 - val_accuracy: 0.2000\n",
      "Epoch 3/5\n",
      "188/188 [==============================] - 1s 7ms/step - loss: -58.1265 - accuracy: 0.2000 - val_loss: -67.3767 - val_accuracy: 0.2000\n",
      "Epoch 4/5\n",
      "188/188 [==============================] - 1s 7ms/step - loss: -76.4001 - accuracy: 0.2000 - val_loss: -85.5372 - val_accuracy: 0.2000\n",
      "Epoch 5/5\n",
      "188/188 [==============================] - 1s 7ms/step - loss: -94.5365 - accuracy: 0.2000 - val_loss: -103.8404 - val_accuracy: 0.2000\n"
     ]
    },
    {
     "data": {
      "text/plain": [
       "<keras.src.callbacks.History at 0x28b8b43b490>"
      ]
     },
     "execution_count": 14,
     "metadata": {},
     "output_type": "execute_result"
    }
   ],
   "source": [
    "model.fit(X_train, y_train, epochs=5, batch_size=32, validation_data=(X_val, y_val))"
   ]
  },
  {
   "cell_type": "code",
   "execution_count": 26,
   "id": "881b6e23-3a12-4355-bb6f-f5248282e8fb",
   "metadata": {},
   "outputs": [
    {
     "name": "stdout",
     "output_type": "stream",
     "text": [
      "24/24 [==============================] - 0s 2ms/step - loss: -104.2169 - accuracy: 0.2000\n",
      "Test Accuracy: 20.00%\n"
     ]
    }
   ],
   "source": [
    "loss, accuracy = model.evaluate(X_test, y_test)\n",
    "print(f'Test Accuracy: {accuracy*100:.2f}%')"
   ]
  },
  {
   "cell_type": "code",
   "execution_count": 27,
   "id": "ea207cdd-8dbf-4938-bb97-66200f3303f1",
   "metadata": {},
   "outputs": [
    {
     "name": "stdout",
     "output_type": "stream",
     "text": [
      "1/1 [==============================] - 0s 286ms/step\n",
      "Predictions: ['fear' 'fear']\n"
     ]
    }
   ],
   "source": [
    "new_texts = [\"I'm so happy right now!\", \"This is really frustrating.\"]\n",
    "new_sequences = tokenizer.texts_to_sequences(new_texts)\n",
    "new_padded = pad_sequences(new_sequences, maxlen=X_train.shape[1])\n",
    "\n",
    "predictions = model.predict(new_padded)\n",
    "predicted_labels = label_encoder.inverse_transform([1 if prediction > 0.5 else 0 for prediction in predictions.flatten()])\n",
    "\n",
    "print(f'Predictions: {predicted_labels}')"
   ]
  },
  {
   "cell_type": "code",
   "execution_count": 28,
   "id": "15a03165-9803-4081-80f5-ebb3b0684a5d",
   "metadata": {},
   "outputs": [
    {
     "name": "stdout",
     "output_type": "stream",
     "text": [
      "1/1 [==============================] - 0s 15ms/step\n",
      "Predictions: ['fear']\n"
     ]
    }
   ],
   "source": [
    "new_texts = [\"Kinda wished I watched mischievous kiss before.\"]\n",
    "new_sequences = tokenizer.texts_to_sequences(new_texts)\n",
    "new_padded = pad_sequences(new_sequences, maxlen=X_train.shape[1])\n",
    "\n",
    "predictions = model.predict(new_padded)\n",
    "predicted_labels = label_encoder.inverse_transform([1 if prediction > 0.5 else 0 for prediction in predictions.flatten()])\n",
    "\n",
    "print(f'Predictions: {predicted_labels}')"
   ]
  },
  {
   "cell_type": "markdown",
   "id": "27075663-89d8-42e7-994f-fe66aac7ac62",
   "metadata": {},
   "source": [
    "# SVM\n"
   ]
  },
  {
   "cell_type": "code",
   "execution_count": null,
   "id": "5ff97a28-f740-4a16-b69e-0a495e9ceb19",
   "metadata": {},
   "outputs": [],
   "source": []
  },
  {
   "cell_type": "code",
   "execution_count": 15,
   "id": "cf997945-5225-4452-803d-a8fe14bbf08a",
   "metadata": {},
   "outputs": [
    {
     "data": {
      "text/html": [
       "<style>#sk-container-id-1 {color: black;}#sk-container-id-1 pre{padding: 0;}#sk-container-id-1 div.sk-toggleable {background-color: white;}#sk-container-id-1 label.sk-toggleable__label {cursor: pointer;display: block;width: 100%;margin-bottom: 0;padding: 0.3em;box-sizing: border-box;text-align: center;}#sk-container-id-1 label.sk-toggleable__label-arrow:before {content: \"▸\";float: left;margin-right: 0.25em;color: #696969;}#sk-container-id-1 label.sk-toggleable__label-arrow:hover:before {color: black;}#sk-container-id-1 div.sk-estimator:hover label.sk-toggleable__label-arrow:before {color: black;}#sk-container-id-1 div.sk-toggleable__content {max-height: 0;max-width: 0;overflow: hidden;text-align: left;background-color: #f0f8ff;}#sk-container-id-1 div.sk-toggleable__content pre {margin: 0.2em;color: black;border-radius: 0.25em;background-color: #f0f8ff;}#sk-container-id-1 input.sk-toggleable__control:checked~div.sk-toggleable__content {max-height: 200px;max-width: 100%;overflow: auto;}#sk-container-id-1 input.sk-toggleable__control:checked~label.sk-toggleable__label-arrow:before {content: \"▾\";}#sk-container-id-1 div.sk-estimator input.sk-toggleable__control:checked~label.sk-toggleable__label {background-color: #d4ebff;}#sk-container-id-1 div.sk-label input.sk-toggleable__control:checked~label.sk-toggleable__label {background-color: #d4ebff;}#sk-container-id-1 input.sk-hidden--visually {border: 0;clip: rect(1px 1px 1px 1px);clip: rect(1px, 1px, 1px, 1px);height: 1px;margin: -1px;overflow: hidden;padding: 0;position: absolute;width: 1px;}#sk-container-id-1 div.sk-estimator {font-family: monospace;background-color: #f0f8ff;border: 1px dotted black;border-radius: 0.25em;box-sizing: border-box;margin-bottom: 0.5em;}#sk-container-id-1 div.sk-estimator:hover {background-color: #d4ebff;}#sk-container-id-1 div.sk-parallel-item::after {content: \"\";width: 100%;border-bottom: 1px solid gray;flex-grow: 1;}#sk-container-id-1 div.sk-label:hover label.sk-toggleable__label {background-color: #d4ebff;}#sk-container-id-1 div.sk-serial::before {content: \"\";position: absolute;border-left: 1px solid gray;box-sizing: border-box;top: 0;bottom: 0;left: 50%;z-index: 0;}#sk-container-id-1 div.sk-serial {display: flex;flex-direction: column;align-items: center;background-color: white;padding-right: 0.2em;padding-left: 0.2em;position: relative;}#sk-container-id-1 div.sk-item {position: relative;z-index: 1;}#sk-container-id-1 div.sk-parallel {display: flex;align-items: stretch;justify-content: center;background-color: white;position: relative;}#sk-container-id-1 div.sk-item::before, #sk-container-id-1 div.sk-parallel-item::before {content: \"\";position: absolute;border-left: 1px solid gray;box-sizing: border-box;top: 0;bottom: 0;left: 50%;z-index: -1;}#sk-container-id-1 div.sk-parallel-item {display: flex;flex-direction: column;z-index: 1;position: relative;background-color: white;}#sk-container-id-1 div.sk-parallel-item:first-child::after {align-self: flex-end;width: 50%;}#sk-container-id-1 div.sk-parallel-item:last-child::after {align-self: flex-start;width: 50%;}#sk-container-id-1 div.sk-parallel-item:only-child::after {width: 0;}#sk-container-id-1 div.sk-dashed-wrapped {border: 1px dashed gray;margin: 0 0.4em 0.5em 0.4em;box-sizing: border-box;padding-bottom: 0.4em;background-color: white;}#sk-container-id-1 div.sk-label label {font-family: monospace;font-weight: bold;display: inline-block;line-height: 1.2em;}#sk-container-id-1 div.sk-label-container {text-align: center;}#sk-container-id-1 div.sk-container {/* jupyter's `normalize.less` sets `[hidden] { display: none; }` but bootstrap.min.css set `[hidden] { display: none !important; }` so we also need the `!important` here to be able to override the default hidden behavior on the sphinx rendered scikit-learn.org. See: https://github.com/scikit-learn/scikit-learn/issues/21755 */display: inline-block !important;position: relative;}#sk-container-id-1 div.sk-text-repr-fallback {display: none;}</style><div id=\"sk-container-id-1\" class=\"sk-top-container\"><div class=\"sk-text-repr-fallback\"><pre>TfidfVectorizer()</pre><b>In a Jupyter environment, please rerun this cell to show the HTML representation or trust the notebook. <br />On GitHub, the HTML representation is unable to render, please try loading this page with nbviewer.org.</b></div><div class=\"sk-container\" hidden><div class=\"sk-item\"><div class=\"sk-estimator sk-toggleable\"><input class=\"sk-toggleable__control sk-hidden--visually\" id=\"sk-estimator-id-1\" type=\"checkbox\" checked><label for=\"sk-estimator-id-1\" class=\"sk-toggleable__label sk-toggleable__label-arrow\">TfidfVectorizer</label><div class=\"sk-toggleable__content\"><pre>TfidfVectorizer()</pre></div></div></div></div></div>"
      ],
      "text/plain": [
       "TfidfVectorizer()"
      ]
     },
     "execution_count": 15,
     "metadata": {},
     "output_type": "execute_result"
    }
   ],
   "source": [
    " vectorizer = TfidfVectorizer()\n",
    " vectorizer.fit(train_texts)"
   ]
  },
  {
   "cell_type": "code",
   "execution_count": 16,
   "id": "a744610b-f783-4c61-8706-3b88f691e1d2",
   "metadata": {},
   "outputs": [],
   "source": [
    "vectorized_train_texts = vectorizer.transform(train_texts)\n",
    "vectorized_val_texts = vectorizer.transform(val_texts)\n",
    "vectorized_test_texts = vectorizer.transform(test_texts)"
   ]
  },
  {
   "cell_type": "code",
   "execution_count": 17,
   "id": "ed62ba41-80d3-4631-8418-bf4798cf29d1",
   "metadata": {},
   "outputs": [],
   "source": [
    "label_encoder = LabelEncoder()\n",
    "encoded_train_labels = label_encoder.fit_transform(train_labels)\n",
    "encoded_val_labels = label_encoder.transform(val_labels)\n",
    "encoded_test_labels = label_encoder.transform(test_labels)"
   ]
  },
  {
   "cell_type": "code",
   "execution_count": 18,
   "id": "de187681-32ac-4c87-a6db-65643abdcd72",
   "metadata": {},
   "outputs": [
    {
     "data": {
      "text/plain": [
       "array([4, 0, 3, 4, 3, 2, 3, 4, 3, 1, 0, 4, 4, 1, 4, 2, 4, 4, 3])"
      ]
     },
     "execution_count": 18,
     "metadata": {},
     "output_type": "execute_result"
    }
   ],
   "source": [
    "encoded_test_labels[:19]"
   ]
  },
  {
   "cell_type": "code",
   "execution_count": 19,
   "id": "2061fe25-12c8-450b-b220-55bc6b672087",
   "metadata": {},
   "outputs": [
    {
     "data": {
      "text/plain": [
       "['sadness',\n",
       " 'anger',\n",
       " 'neutral',\n",
       " 'sadness',\n",
       " 'neutral',\n",
       " 'joy',\n",
       " 'neutral',\n",
       " 'sadness',\n",
       " 'neutral',\n",
       " 'fear',\n",
       " 'anger',\n",
       " 'sadness',\n",
       " 'sadness',\n",
       " 'fear',\n",
       " 'sadness',\n",
       " 'joy',\n",
       " 'sadness',\n",
       " 'sadness',\n",
       " 'neutral']"
      ]
     },
     "execution_count": 19,
     "metadata": {},
     "output_type": "execute_result"
    }
   ],
   "source": [
    "test_labels[:19]"
   ]
  },
  {
   "cell_type": "code",
   "execution_count": 20,
   "id": "c92a2194-0987-4818-a2dc-25870fd58ca7",
   "metadata": {},
   "outputs": [
    {
     "data": {
      "text/html": [
       "<style>#sk-container-id-2 {color: black;}#sk-container-id-2 pre{padding: 0;}#sk-container-id-2 div.sk-toggleable {background-color: white;}#sk-container-id-2 label.sk-toggleable__label {cursor: pointer;display: block;width: 100%;margin-bottom: 0;padding: 0.3em;box-sizing: border-box;text-align: center;}#sk-container-id-2 label.sk-toggleable__label-arrow:before {content: \"▸\";float: left;margin-right: 0.25em;color: #696969;}#sk-container-id-2 label.sk-toggleable__label-arrow:hover:before {color: black;}#sk-container-id-2 div.sk-estimator:hover label.sk-toggleable__label-arrow:before {color: black;}#sk-container-id-2 div.sk-toggleable__content {max-height: 0;max-width: 0;overflow: hidden;text-align: left;background-color: #f0f8ff;}#sk-container-id-2 div.sk-toggleable__content pre {margin: 0.2em;color: black;border-radius: 0.25em;background-color: #f0f8ff;}#sk-container-id-2 input.sk-toggleable__control:checked~div.sk-toggleable__content {max-height: 200px;max-width: 100%;overflow: auto;}#sk-container-id-2 input.sk-toggleable__control:checked~label.sk-toggleable__label-arrow:before {content: \"▾\";}#sk-container-id-2 div.sk-estimator input.sk-toggleable__control:checked~label.sk-toggleable__label {background-color: #d4ebff;}#sk-container-id-2 div.sk-label input.sk-toggleable__control:checked~label.sk-toggleable__label {background-color: #d4ebff;}#sk-container-id-2 input.sk-hidden--visually {border: 0;clip: rect(1px 1px 1px 1px);clip: rect(1px, 1px, 1px, 1px);height: 1px;margin: -1px;overflow: hidden;padding: 0;position: absolute;width: 1px;}#sk-container-id-2 div.sk-estimator {font-family: monospace;background-color: #f0f8ff;border: 1px dotted black;border-radius: 0.25em;box-sizing: border-box;margin-bottom: 0.5em;}#sk-container-id-2 div.sk-estimator:hover {background-color: #d4ebff;}#sk-container-id-2 div.sk-parallel-item::after {content: \"\";width: 100%;border-bottom: 1px solid gray;flex-grow: 1;}#sk-container-id-2 div.sk-label:hover label.sk-toggleable__label {background-color: #d4ebff;}#sk-container-id-2 div.sk-serial::before {content: \"\";position: absolute;border-left: 1px solid gray;box-sizing: border-box;top: 0;bottom: 0;left: 50%;z-index: 0;}#sk-container-id-2 div.sk-serial {display: flex;flex-direction: column;align-items: center;background-color: white;padding-right: 0.2em;padding-left: 0.2em;position: relative;}#sk-container-id-2 div.sk-item {position: relative;z-index: 1;}#sk-container-id-2 div.sk-parallel {display: flex;align-items: stretch;justify-content: center;background-color: white;position: relative;}#sk-container-id-2 div.sk-item::before, #sk-container-id-2 div.sk-parallel-item::before {content: \"\";position: absolute;border-left: 1px solid gray;box-sizing: border-box;top: 0;bottom: 0;left: 50%;z-index: -1;}#sk-container-id-2 div.sk-parallel-item {display: flex;flex-direction: column;z-index: 1;position: relative;background-color: white;}#sk-container-id-2 div.sk-parallel-item:first-child::after {align-self: flex-end;width: 50%;}#sk-container-id-2 div.sk-parallel-item:last-child::after {align-self: flex-start;width: 50%;}#sk-container-id-2 div.sk-parallel-item:only-child::after {width: 0;}#sk-container-id-2 div.sk-dashed-wrapped {border: 1px dashed gray;margin: 0 0.4em 0.5em 0.4em;box-sizing: border-box;padding-bottom: 0.4em;background-color: white;}#sk-container-id-2 div.sk-label label {font-family: monospace;font-weight: bold;display: inline-block;line-height: 1.2em;}#sk-container-id-2 div.sk-label-container {text-align: center;}#sk-container-id-2 div.sk-container {/* jupyter's `normalize.less` sets `[hidden] { display: none; }` but bootstrap.min.css set `[hidden] { display: none !important; }` so we also need the `!important` here to be able to override the default hidden behavior on the sphinx rendered scikit-learn.org. See: https://github.com/scikit-learn/scikit-learn/issues/21755 */display: inline-block !important;position: relative;}#sk-container-id-2 div.sk-text-repr-fallback {display: none;}</style><div id=\"sk-container-id-2\" class=\"sk-top-container\"><div class=\"sk-text-repr-fallback\"><pre>SVC(probability=True)</pre><b>In a Jupyter environment, please rerun this cell to show the HTML representation or trust the notebook. <br />On GitHub, the HTML representation is unable to render, please try loading this page with nbviewer.org.</b></div><div class=\"sk-container\" hidden><div class=\"sk-item\"><div class=\"sk-estimator sk-toggleable\"><input class=\"sk-toggleable__control sk-hidden--visually\" id=\"sk-estimator-id-2\" type=\"checkbox\" checked><label for=\"sk-estimator-id-2\" class=\"sk-toggleable__label sk-toggleable__label-arrow\">SVC</label><div class=\"sk-toggleable__content\"><pre>SVC(probability=True)</pre></div></div></div></div></div>"
      ],
      "text/plain": [
       "SVC(probability=True)"
      ]
     },
     "execution_count": 20,
     "metadata": {},
     "output_type": "execute_result"
    }
   ],
   "source": [
    "svm_model = svm.SVC(probability=True)\n",
    "svm_model.fit(vectorized_train_texts, encoded_train_labels)"
   ]
  },
  {
   "cell_type": "code",
   "execution_count": 21,
   "id": "83cb4d26-a7d5-4f32-8775-af69857e9e01",
   "metadata": {},
   "outputs": [
    {
     "data": {
      "text/plain": [
       "array([[-5.85416914e+00, -2.63627493e+00, -3.63380936e-01,\n",
       "        -5.56407927e+00, -1.48567337e+00],\n",
       "       [-7.49632382e+00, -9.91921514e-03, -8.38859956e+00,\n",
       "        -4.78348005e+00, -7.23517136e+00],\n",
       "       [-1.99820953e+01, -4.98667589e-05, -1.66998895e+01,\n",
       "        -9.96359680e+00, -1.28132457e+01],\n",
       "       ...,\n",
       "       [-6.84557420e-01, -2.54391590e+00, -3.07973540e+00,\n",
       "        -1.34844967e+00, -2.19360020e+00],\n",
       "       [-2.34510287e+00, -3.74860008e+00, -2.61674525e+00,\n",
       "        -3.88213804e-01, -2.04558558e+00],\n",
       "       [-4.99705095e+00, -5.71336505e+00, -3.67249722e+00,\n",
       "        -1.03906617e-01, -2.76116272e+00]])"
      ]
     },
     "execution_count": 21,
     "metadata": {},
     "output_type": "execute_result"
    }
   ],
   "source": [
    "y_pred = svm_model.predict_log_proba(vectorized_val_texts)\n",
    "y_pred"
   ]
  },
  {
   "cell_type": "code",
   "execution_count": 22,
   "id": "46570149-c641-4f35-b5dc-9f475431a72b",
   "metadata": {},
   "outputs": [
    {
     "name": "stdout",
     "output_type": "stream",
     "text": [
      "Model has acc = 0.8893333333333333\n",
      ", precision = 0.8893333333333333\n",
      ", recall = 0.8893333333333333\n",
      ", f1_score = 0.8893333333333333\n",
      "\n"
     ]
    }
   ],
   "source": [
    "acc = accuracy_score(encoded_val_labels, np.argmax(y_pred, axis=1))\n",
    "precision = precision_score(encoded_val_labels, np.argmax(y_pred, axis=1), average=\"micro\")\n",
    "recall = recall_score(encoded_val_labels, np.argmax(y_pred, axis=1), average=\"micro\")\n",
    "f1 = f1_score(encoded_val_labels, np.argmax(y_pred, axis=1), average=\"micro\")\n",
    "print(f\"Model has acc = {acc}\\n, precision = {precision}\\n, recall = {recall}\\n, f1_score = {f1}\\n\")"
   ]
  },
  {
   "cell_type": "code",
   "execution_count": 95,
   "id": "3ad305a9-b2a7-48bd-8787-570310b15a8e",
   "metadata": {},
   "outputs": [
    {
     "data": {
      "text/plain": [
       "array([[-3.11334586e+01, -3.04928062e+01, -3.13817050e+01,\n",
       "        -3.07716549e+01, -1.53987934e-13],\n",
       "       [-1.33391992e-02, -7.36702277e+00, -9.79543951e+00,\n",
       "        -4.47235597e+00, -6.77427656e+00],\n",
       "       [-4.38574428e+00, -4.73532243e+00, -7.50134064e+00,\n",
       "        -2.36677302e-02, -6.43508679e+00],\n",
       "       ...,\n",
       "       [-2.67931765e+01, -1.75443062e-06, -1.72189593e+01,\n",
       "        -1.34337030e+01, -1.51771581e+01],\n",
       "       [-1.47937391e+01, -6.37159571e-04, -1.33281573e+01,\n",
       "        -7.38421357e+00, -1.11783247e+01],\n",
       "       [-8.98330589e-01, -5.33671361e-01, -7.12574569e+00,\n",
       "        -5.51180906e+00, -6.52920672e+00]])"
      ]
     },
     "execution_count": 95,
     "metadata": {},
     "output_type": "execute_result"
    }
   ],
   "source": [
    "y_pred = svm_model.predict_log_proba(vectorized_test_texts)\n",
    "y_pred"
   ]
  },
  {
   "cell_type": "code",
   "execution_count": 92,
   "id": "8369e614-503e-419c-81fb-20323b2ccdb0",
   "metadata": {},
   "outputs": [
    {
     "name": "stdout",
     "output_type": "stream",
     "text": [
      "Model has acc = 0.864\n",
      ", precision = 0.8682200934235779\n",
      ", recall = 0.8640000000000001\n",
      ", f1_score = 0.8654829178175897\n",
      "\n"
     ]
    }
   ],
   "source": [
    "acc = accuracy_score(encoded_test_labels, np.argmax(y_pred, axis=1))\n",
    "precision = precision_score(encoded_test_labels, np.argmax(y_pred, axis=1), average=\"macro\")\n",
    "recall = recall_score(encoded_test_labels, np.argmax(y_pred, axis=1), average=\"macro\")\n",
    "f1 = f1_score(encoded_test_labels, np.argmax(y_pred, axis=1), average=\"macro\")\n",
    "print(f\"Model has acc = {acc}\\n, precision = {precision}\\n, recall = {recall}\\n, f1_score = {f1}\\n\")"
   ]
  },
  {
   "cell_type": "code",
   "execution_count": 110,
   "id": "3bb4ba0a-2298-418d-9545-22da9e888eb8",
   "metadata": {},
   "outputs": [],
   "source": [
    "from sklearn.metrics import confusion_matrix\n",
    "def compute_metrics(y_true, predictions):\n",
    "  average = \"macro\"\n",
    "  acc = accuracy_score(y_true, predictions)\n",
    "  precision = precision_score(y_true, predictions, average=average)\n",
    "  recall = recall_score(y_true, predictions, average=average)\n",
    "  f1 = f1_score(y_true, predictions, average=average)\n",
    "  print(f\"Model has acc = {acc}\\n, precision = {precision}\\n, recall = {recall}\\n, f1_score = {f1}\\n\")"
   ]
  },
  {
   "cell_type": "code",
   "execution_count": 111,
   "id": "77789fbd-234b-469b-82f2-0d26608ce0f3",
   "metadata": {},
   "outputs": [],
   "source": [
    "def compute_metrics(y_true, predictions):\n",
    "  average = \"macro\"\n",
    "  acc = accuracy_score(y_true, predictions)\n",
    "  precision = precision_score(y_true, predictions, average=average)\n",
    "  recall = recall_score(y_true, predictions, average=average)\n",
    "  f1 = f1_score(y_true, predictions, average=average)\n",
    "  print(f\"Model has acc = {acc}\\n, precision = {precision}\\n, recall = {recall}\\n, f1_score = {f1}\\n\")\n"
   ]
  },
  {
   "cell_type": "code",
   "execution_count": 123,
   "id": "57962709-afcb-4c4c-8be5-24b2ced74fd3",
   "metadata": {},
   "outputs": [],
   "source": [
    "import itertools\n",
    "import pandas as pd\n",
    "import matplotlib.pyplot as plt\n",
    "def plot_confusion_matrix(cm,\n",
    "                          target_names,\n",
    "                          title='Confusion matrix',\n",
    "                          cmap=None,\n",
    "                          normalize=True):\n",
    "    accuracy = np.trace(cm) / float(np.sum(cm))\n",
    "    misclass = 1 - accuracy\n",
    "\n",
    "    if cmap is None:\n",
    "        cmap = plt.get_cmap('Blues')\n",
    "\n",
    "    plt.figure(figsize=(12, 8))\n",
    "    plt.imshow(cm, interpolation='nearest', cmap=cmap)\n",
    "    plt.rcParams.update({'font.size': 20})\n",
    "    plt.title(title)\n",
    "    plt.colorbar()\n",
    "\n",
    "    if target_names is not None:\n",
    "        tick_marks = np.arange(len(target_names))\n",
    "        plt.xticks(tick_marks, target_names, rotation=45)\n",
    "        plt.yticks(tick_marks, target_names)\n",
    "\n",
    "    if normalize:\n",
    "        cm = cm.astype('float') / cm.sum(axis=1)[:, np.newaxis]\n",
    "\n",
    "    thresh = cm.max() / 1.5 if normalize else cm.max() / 2\n",
    "    for i, j in itertools.product(range(cm.shape[0]), range(cm.shape[1])):\n",
    "        if normalize:\n",
    "            plt.text(j, i, \"{:0.4f}\".format(cm[i, j]),\n",
    "                     horizontalalignment=\"center\",\n",
    "                     color=\"white\" if cm[i, j] > thresh else \"black\")\n",
    "        else:\n",
    "            plt.text(j, i, \"{:,}\".format(cm[i, j]),\n",
    "                     horizontalalignment=\"center\",\n",
    "                     color=\"white\" if cm[i, j] > thresh else \"black\")\n",
    "\n",
    "    plt.tight_layout()\n",
    "    plt.ylabel('True label')\n",
    "    plt.xlabel('Predicted label\\naccuracy={:0.4f}; misclass={:0.4f}'.format(accuracy, misclass))\n",
    "    plt.show()\n"
   ]
  },
  {
   "cell_type": "code",
   "execution_count": 124,
   "id": "81f73cea-8aca-47ee-9b73-7934ce19ef5d",
   "metadata": {},
   "outputs": [],
   "source": [
    "y_pred = svm_model.predict(vectorized_test_texts)"
   ]
  },
  {
   "cell_type": "code",
   "execution_count": 125,
   "id": "db15035a-c95e-40b0-8df0-4d9bf5f4c0df",
   "metadata": {},
   "outputs": [],
   "source": [
    "\n",
    "labels = ['joy', 'anger', 'fear', 'sadness', 'neutral']"
   ]
  },
  {
   "cell_type": "code",
   "execution_count": 126,
   "id": "bad1a5e9-8162-4703-b3f9-23876fb30c42",
   "metadata": {},
   "outputs": [
    {
     "data": {
      "image/png": "[encoded data removed]",
      "text/plain": [
       "<Figure size 1200x800 with 2 Axes>"
      ]
     },
     "metadata": {},
     "output_type": "display_data"
    }
   ],
   "source": [
    "\n",
    "y_pred = label_encoder.inverse_transform(y_pred)\n",
    "cm = confusion_matrix(test_labels, y_pred, labels=labels)\n",
    "plot_confusion_matrix(cm, labels)"
   ]
  },
  {
   "cell_type": "code",
   "execution_count": 127,
   "id": "d9911dfb-a9a4-4fe8-afb2-9f72ee4cc2d9",
   "metadata": {},
   "outputs": [
    {
     "name": "stdout",
     "output_type": "stream",
     "text": [
      "              precision    recall  f1-score   support\n",
      "\n",
      "       anger       0.91      0.87      0.89       150\n",
      "        fear       0.86      0.84      0.85       150\n",
      "         joy       0.96      0.87      0.92       150\n",
      "     neutral       0.70      0.81      0.75       150\n",
      "     sadness       0.90      0.89      0.90       150\n",
      "\n",
      "    accuracy                           0.86       750\n",
      "   macro avg       0.87      0.86      0.86       750\n",
      "weighted avg       0.87      0.86      0.86       750\n",
      "\n"
     ]
    }
   ],
   "source": [
    "print(classification_report(test_labels, y_pred))"
   ]
  },
  {
   "cell_type": "code",
   "execution_count": 87,
   "id": "095ead2e-aebe-4067-8a68-36f0daf8bfe3",
   "metadata": {},
   "outputs": [],
   "source": [
    "y_pred = svm_model.predict(vectorized_test_texts)"
   ]
  },
  {
   "cell_type": "code",
   "execution_count": 59,
   "id": "5428df5d-5f80-499c-a304-ceec20fa6d4c",
   "metadata": {},
   "outputs": [
    {
     "name": "stdout",
     "output_type": "stream",
     "text": [
      "'I hate getting up, it's so annoying.' : neutral\n",
      "'I love cats and their sweet noses.' : joy\n",
      "'I put up with my schoolmates.' : neutral\n",
      "'This movie made me feel so happy!' : joy\n",
      "'The traffic jam today was frustrating.' : neutral\n",
      "'Spending time with friends always brings joy.' : joy\n",
      "'I feel lonely when I'm alone at home.' : neutral\n",
      "'Excited about the upcoming vacation!' : fear\n",
      "'I love spending time with friends and family. It brings me so much joy!' : joy\n",
      "'The rude behavior of that person made me really angry.' : anger\n",
      "'I'm feeling neutral about the upcoming changes at work.' : neutral\n",
      "'Today is just another neutral day for me.' : neutral\n",
      "'The constant delays and issues with the project are making me angry.' : anger\n",
      "'Winning the lottery would bring me immense joy and happiness!' : joy\n",
      "'I don't have a strong opinion on the matter; I'm feeling quite neutral.' : sadness\n",
      "'The news about the recent event left me in deep sadness.' : sadness\n",
      "'Losing a loved one is an experience filled with sadness and grief.' : sadness\n",
      "'I have a neutral stance on the current political situation.' : sadness\n",
      "'I'm so happy right now!' : joy\n",
      "'This is really frustrating.Feeling sad and lonely tonight.' : sadness\n",
      "'I can't contain my excitement!' : neutral\n",
      "'Angry about the recent events.' : anger\n",
      "'Today is a wonderful day!' : neutral\n",
      "'Dealing with a lot of stress.' : neutral\n",
      "'The movie made me cry, but it was beautiful.' : neutral\n",
      "'I'm thrilled about the upcoming project.' : neutral\n",
      "'Feeling a bit anxious about the presentation.' : neutral\n"
     ]
    }
   ],
   "source": [
    "emotions = [\n",
    "    \"I hate getting up, it's so annoying.\",\n",
    "    \"I love cats and their sweet noses.\",\n",
    "    \"I put up with my schoolmates.\",\n",
    "    \"This movie made me feel so happy!\",\n",
    "    \"The traffic jam today was frustrating.\",\n",
    "    \"Spending time with friends always brings joy.\",\n",
    "    \"I feel lonely when I'm alone at home.\",\n",
    "    \"Excited about the upcoming vacation!\",\n",
    "    \"I love spending time with friends and family. It brings me so much joy!\",\n",
    "    \"The rude behavior of that person made me really angry.\",\n",
    "    \"I'm feeling neutral about the upcoming changes at work.\",\n",
    "    \"Today is just another neutral day for me.\",\n",
    "    \"The constant delays and issues with the project are making me angry.\",\n",
    "    \"Winning the lottery would bring me immense joy and happiness!\",\n",
    "    \"I don't have a strong opinion on the matter; I'm feeling quite neutral.\",\n",
    "    \"The news about the recent event left me in deep sadness.\",\n",
    "    \"Losing a loved one is an experience filled with sadness and grief.\",\n",
    "    \"I have a neutral stance on the current political situation.\",\n",
    "    \"I'm so happy right now!\", \"This is really frustrating.\"\n",
    "    \"Feeling sad and lonely tonight.\",\n",
    "    \"I can't contain my excitement!\",\n",
    "    \"Angry about the recent events.\",\n",
    "    \"Today is a wonderful day!\",\n",
    "    \"Dealing with a lot of stress.\",\n",
    "    \"The movie made me cry, but it was beautiful.\",\n",
    "    \"I'm thrilled about the upcoming project.\",\n",
    "    \"Feeling a bit anxious about the presentation.\"\n",
    "]\n",
    "\n",
    "for text in emotions:\n",
    "    vectorized_text = vectorizer.transform([text])\n",
    "\n",
    "    text_pred = svm_model.predict(vectorized_text)\n",
    "\n",
    "    decoded_emotion = label_encoder.inverse_transform(text_pred)\n",
    "\n",
    "    print(f\"'{text}' : {decoded_emotion[0]}\")"
   ]
  },
  {
   "cell_type": "code",
   "execution_count": 60,
   "id": "43a8c326-334f-4a89-8401-0a36991048ed",
   "metadata": {},
   "outputs": [
    {
     "data": {
      "text/html": [
       "<div>\n",
       "<style scoped>\n",
       "    .dataframe tbody tr th:only-of-type {\n",
       "        vertical-align: middle;\n",
       "    }\n",
       "\n",
       "    .dataframe tbody tr th {\n",
       "        vertical-align: top;\n",
       "    }\n",
       "\n",
       "    .dataframe thead th {\n",
       "        text-align: right;\n",
       "    }\n",
       "</style>\n",
       "<table border=\"1\" class=\"dataframe\">\n",
       "  <thead>\n",
       "    <tr style=\"text-align: right;\">\n",
       "      <th></th>\n",
       "      <th>Text</th>\n",
       "      <th>Predicted Emotion</th>\n",
       "      <th>Probability</th>\n",
       "    </tr>\n",
       "  </thead>\n",
       "  <tbody>\n",
       "    <tr>\n",
       "      <th>0</th>\n",
       "      <td>I hate getting up, it's so annoying.</td>\n",
       "      <td>neutral</td>\n",
       "      <td>0.529682</td>\n",
       "    </tr>\n",
       "    <tr>\n",
       "      <th>1</th>\n",
       "      <td>I love cats and their sweet noses.</td>\n",
       "      <td>joy</td>\n",
       "      <td>0.999722</td>\n",
       "    </tr>\n",
       "    <tr>\n",
       "      <th>2</th>\n",
       "      <td>I put up with my schoolmates.</td>\n",
       "      <td>anger</td>\n",
       "      <td>0.620478</td>\n",
       "    </tr>\n",
       "    <tr>\n",
       "      <th>3</th>\n",
       "      <td>This movie made me feel so happy!</td>\n",
       "      <td>joy</td>\n",
       "      <td>0.999446</td>\n",
       "    </tr>\n",
       "    <tr>\n",
       "      <th>4</th>\n",
       "      <td>The traffic jam today was frustrating.</td>\n",
       "      <td>neutral</td>\n",
       "      <td>0.613071</td>\n",
       "    </tr>\n",
       "    <tr>\n",
       "      <th>5</th>\n",
       "      <td>Spending time with friends always brings joy.</td>\n",
       "      <td>joy</td>\n",
       "      <td>0.618825</td>\n",
       "    </tr>\n",
       "    <tr>\n",
       "      <th>6</th>\n",
       "      <td>I feel lonely when I'm alone at home.</td>\n",
       "      <td>neutral</td>\n",
       "      <td>0.991056</td>\n",
       "    </tr>\n",
       "    <tr>\n",
       "      <th>7</th>\n",
       "      <td>Excited about the upcoming vacation!</td>\n",
       "      <td>neutral</td>\n",
       "      <td>0.487228</td>\n",
       "    </tr>\n",
       "    <tr>\n",
       "      <th>8</th>\n",
       "      <td>I love spending time with friends and family. ...</td>\n",
       "      <td>joy</td>\n",
       "      <td>0.894446</td>\n",
       "    </tr>\n",
       "    <tr>\n",
       "      <th>9</th>\n",
       "      <td>The rude behavior of that person made me reall...</td>\n",
       "      <td>anger</td>\n",
       "      <td>0.998289</td>\n",
       "    </tr>\n",
       "    <tr>\n",
       "      <th>10</th>\n",
       "      <td>I'm feeling neutral about the upcoming changes...</td>\n",
       "      <td>neutral</td>\n",
       "      <td>0.912089</td>\n",
       "    </tr>\n",
       "    <tr>\n",
       "      <th>11</th>\n",
       "      <td>Today is just another neutral day for me.</td>\n",
       "      <td>neutral</td>\n",
       "      <td>0.899079</td>\n",
       "    </tr>\n",
       "    <tr>\n",
       "      <th>12</th>\n",
       "      <td>The constant delays and issues with the projec...</td>\n",
       "      <td>anger</td>\n",
       "      <td>0.990658</td>\n",
       "    </tr>\n",
       "    <tr>\n",
       "      <th>13</th>\n",
       "      <td>Winning the lottery would bring me immense joy...</td>\n",
       "      <td>joy</td>\n",
       "      <td>0.878450</td>\n",
       "    </tr>\n",
       "    <tr>\n",
       "      <th>14</th>\n",
       "      <td>I don't have a strong opinion on the matter; I...</td>\n",
       "      <td>sadness</td>\n",
       "      <td>0.427652</td>\n",
       "    </tr>\n",
       "    <tr>\n",
       "      <th>15</th>\n",
       "      <td>The news about the recent event left me in dee...</td>\n",
       "      <td>sadness</td>\n",
       "      <td>0.996148</td>\n",
       "    </tr>\n",
       "    <tr>\n",
       "      <th>16</th>\n",
       "      <td>Losing a loved one is an experience filled wit...</td>\n",
       "      <td>sadness</td>\n",
       "      <td>0.999997</td>\n",
       "    </tr>\n",
       "    <tr>\n",
       "      <th>17</th>\n",
       "      <td>I have a neutral stance on the current politic...</td>\n",
       "      <td>sadness</td>\n",
       "      <td>0.304446</td>\n",
       "    </tr>\n",
       "    <tr>\n",
       "      <th>18</th>\n",
       "      <td>I'm so happy right now!</td>\n",
       "      <td>joy</td>\n",
       "      <td>0.999999</td>\n",
       "    </tr>\n",
       "    <tr>\n",
       "      <th>19</th>\n",
       "      <td>This is really frustrating.Feeling sad and lon...</td>\n",
       "      <td>sadness</td>\n",
       "      <td>0.781393</td>\n",
       "    </tr>\n",
       "    <tr>\n",
       "      <th>20</th>\n",
       "      <td>I can't contain my excitement!</td>\n",
       "      <td>neutral</td>\n",
       "      <td>0.858556</td>\n",
       "    </tr>\n",
       "    <tr>\n",
       "      <th>21</th>\n",
       "      <td>Angry about the recent events.</td>\n",
       "      <td>anger</td>\n",
       "      <td>0.998107</td>\n",
       "    </tr>\n",
       "    <tr>\n",
       "      <th>22</th>\n",
       "      <td>Today is a wonderful day!</td>\n",
       "      <td>joy</td>\n",
       "      <td>0.724613</td>\n",
       "    </tr>\n",
       "    <tr>\n",
       "      <th>23</th>\n",
       "      <td>Dealing with a lot of stress.</td>\n",
       "      <td>neutral</td>\n",
       "      <td>0.363828</td>\n",
       "    </tr>\n",
       "    <tr>\n",
       "      <th>24</th>\n",
       "      <td>The movie made me cry, but it was beautiful.</td>\n",
       "      <td>neutral</td>\n",
       "      <td>0.442309</td>\n",
       "    </tr>\n",
       "    <tr>\n",
       "      <th>25</th>\n",
       "      <td>I'm thrilled about the upcoming project.</td>\n",
       "      <td>neutral</td>\n",
       "      <td>0.832988</td>\n",
       "    </tr>\n",
       "    <tr>\n",
       "      <th>26</th>\n",
       "      <td>Feeling a bit anxious about the presentation.</td>\n",
       "      <td>neutral</td>\n",
       "      <td>0.468778</td>\n",
       "    </tr>\n",
       "  </tbody>\n",
       "</table>\n",
       "</div>"
      ],
      "text/plain": [
       "                                                 Text Predicted Emotion  \\\n",
       "0                I hate getting up, it's so annoying.           neutral   \n",
       "1                  I love cats and their sweet noses.               joy   \n",
       "2                       I put up with my schoolmates.             anger   \n",
       "3                   This movie made me feel so happy!               joy   \n",
       "4              The traffic jam today was frustrating.           neutral   \n",
       "5       Spending time with friends always brings joy.               joy   \n",
       "6               I feel lonely when I'm alone at home.           neutral   \n",
       "7                Excited about the upcoming vacation!           neutral   \n",
       "8   I love spending time with friends and family. ...               joy   \n",
       "9   The rude behavior of that person made me reall...             anger   \n",
       "10  I'm feeling neutral about the upcoming changes...           neutral   \n",
       "11          Today is just another neutral day for me.           neutral   \n",
       "12  The constant delays and issues with the projec...             anger   \n",
       "13  Winning the lottery would bring me immense joy...               joy   \n",
       "14  I don't have a strong opinion on the matter; I...           sadness   \n",
       "15  The news about the recent event left me in dee...           sadness   \n",
       "16  Losing a loved one is an experience filled wit...           sadness   \n",
       "17  I have a neutral stance on the current politic...           sadness   \n",
       "18                            I'm so happy right now!               joy   \n",
       "19  This is really frustrating.Feeling sad and lon...           sadness   \n",
       "20                     I can't contain my excitement!           neutral   \n",
       "21                     Angry about the recent events.             anger   \n",
       "22                          Today is a wonderful day!               joy   \n",
       "23                      Dealing with a lot of stress.           neutral   \n",
       "24       The movie made me cry, but it was beautiful.           neutral   \n",
       "25           I'm thrilled about the upcoming project.           neutral   \n",
       "26      Feeling a bit anxious about the presentation.           neutral   \n",
       "\n",
       "    Probability  \n",
       "0      0.529682  \n",
       "1      0.999722  \n",
       "2      0.620478  \n",
       "3      0.999446  \n",
       "4      0.613071  \n",
       "5      0.618825  \n",
       "6      0.991056  \n",
       "7      0.487228  \n",
       "8      0.894446  \n",
       "9      0.998289  \n",
       "10     0.912089  \n",
       "11     0.899079  \n",
       "12     0.990658  \n",
       "13     0.878450  \n",
       "14     0.427652  \n",
       "15     0.996148  \n",
       "16     0.999997  \n",
       "17     0.304446  \n",
       "18     0.999999  \n",
       "19     0.781393  \n",
       "20     0.858556  \n",
       "21     0.998107  \n",
       "22     0.724613  \n",
       "23     0.363828  \n",
       "24     0.442309  \n",
       "25     0.832988  \n",
       "26     0.468778  "
      ]
     },
     "execution_count": 60,
     "metadata": {},
     "output_type": "execute_result"
    }
   ],
   "source": [
    "texts = []\n",
    "predicted_emotions = []\n",
    "probabilities = []\n",
    "\n",
    "for text in emotions:\n",
    "    vectorized_text = vectorizer.transform([preprocess_text(text)])\n",
    "    text_pred_prob = svm_model.predict_proba(vectorized_text)\n",
    "    text_pred = svm_model.predict(vectorized_text)\n",
    "    decoded_emotion = label_encoder.inverse_transform(text_pred)\n",
    "    \n",
    "    texts.append(text)\n",
    "    predicted_emotions.append(decoded_emotion[0])\n",
    "    probabilities.append(max(text_pred_prob[0]))  # Assuming you want the probability of the predicted class\n",
    "\n",
    "emotion_df = pd.DataFrame({'Text': texts, 'Predicted Emotion': predicted_emotions, 'Probability': probabilities})\n",
    "emotion_df"
   ]
  },
  {
   "cell_type": "code",
   "execution_count": 61,
   "id": "bcbcdb10-ce42-457b-ae45-019b57c0d0e3",
   "metadata": {},
   "outputs": [
    {
     "name": "stdout",
     "output_type": "stream",
     "text": [
      "Text: Today is a wonderful excitement day!\n",
      "Predicted Label (SVM): joy\n",
      "Probability (SVM): 0.71\n"
     ]
    }
   ],
   "source": [
    "new_text = \"Today is a wonderful excitement day!\"\n",
    "\n",
    "\n",
    "vectorized_new_text = vectorizer.transform([preprocess_text(new_text)])\n",
    "\n",
    "predictions_proba_svm = svm_model.predict_proba(vectorized_new_text)\n",
    "\n",
    "predicted_label_svm = label_encoder.inverse_transform(predictions_proba_svm.argmax(axis=1))[0]\n",
    "probability_svm = predictions_proba_svm.max()\n",
    "\n",
    "print(f\"Text: {new_text}\\nPredicted Label (SVM): {predicted_label_svm}\\nProbability (SVM): {probability_svm:.2f}\")"
   ]
  },
  {
   "cell_type": "code",
   "execution_count": 45,
   "id": "a853749a-c3e4-44f0-b65e-87f0255f9351",
   "metadata": {},
   "outputs": [
    {
     "ename": "FileNotFoundError",
     "evalue": "[Errno 2] No such file or directory: 'svm_model/svm_model.joblib'",
     "output_type": "error",
     "traceback": [
      "\u001b[1;31m---------------------------------------------------------------------------\u001b[0m",
      "\u001b[1;31mFileNotFoundError\u001b[0m                         Traceback (most recent call last)",
      "Cell \u001b[1;32mIn[45], line 1\u001b[0m\n\u001b[1;32m----> 1\u001b[0m \u001b[43mjoblib\u001b[49m\u001b[38;5;241;43m.\u001b[39;49m\u001b[43mdump\u001b[49m\u001b[43m(\u001b[49m\u001b[43msvm_model\u001b[49m\u001b[43m,\u001b[49m\u001b[43m \u001b[49m\u001b[38;5;124;43m'\u001b[39;49m\u001b[38;5;124;43msvm_model/svm_model.joblib\u001b[39;49m\u001b[38;5;124;43m'\u001b[39;49m\u001b[43m)\u001b[49m\n\u001b[0;32m      2\u001b[0m joblib\u001b[38;5;241m.\u001b[39mdump(vectorizer, \u001b[38;5;124m'\u001b[39m\u001b[38;5;124msvm_model/svm_vectorizer.joblib\u001b[39m\u001b[38;5;124m'\u001b[39m)\n\u001b[0;32m      3\u001b[0m joblib\u001b[38;5;241m.\u001b[39mdump(label_encoder, \u001b[38;5;124m'\u001b[39m\u001b[38;5;124msvm_model/svm_label_encoder.joblib\u001b[39m\u001b[38;5;124m'\u001b[39m)\n",
      "File \u001b[1;32m~\\AppData\\Local\\Programs\\Python\\Python311\\Lib\\site-packages\\joblib\\numpy_pickle.py:552\u001b[0m, in \u001b[0;36mdump\u001b[1;34m(value, filename, compress, protocol, cache_size)\u001b[0m\n\u001b[0;32m    550\u001b[0m         NumpyPickler(f, protocol\u001b[38;5;241m=\u001b[39mprotocol)\u001b[38;5;241m.\u001b[39mdump(value)\n\u001b[0;32m    551\u001b[0m \u001b[38;5;28;01melif\u001b[39;00m is_filename:\n\u001b[1;32m--> 552\u001b[0m     \u001b[38;5;28;01mwith\u001b[39;00m \u001b[38;5;28;43mopen\u001b[39;49m\u001b[43m(\u001b[49m\u001b[43mfilename\u001b[49m\u001b[43m,\u001b[49m\u001b[43m \u001b[49m\u001b[38;5;124;43m'\u001b[39;49m\u001b[38;5;124;43mwb\u001b[39;49m\u001b[38;5;124;43m'\u001b[39;49m\u001b[43m)\u001b[49m \u001b[38;5;28;01mas\u001b[39;00m f:\n\u001b[0;32m    553\u001b[0m         NumpyPickler(f, protocol\u001b[38;5;241m=\u001b[39mprotocol)\u001b[38;5;241m.\u001b[39mdump(value)\n\u001b[0;32m    554\u001b[0m \u001b[38;5;28;01melse\u001b[39;00m:\n",
      "\u001b[1;31mFileNotFoundError\u001b[0m: [Errno 2] No such file or directory: 'svm_model/svm_model.joblib'"
     ]
    }
   ],
   "source": [
    "joblib.dump(svm_model, 'svm_model/svm_model.joblib')\n",
    "joblib.dump(vectorizer, 'svm_model/svm_vectorizer.joblib')\n",
    "joblib.dump(label_encoder, 'svm_model/svm_label_encoder.joblib')"
   ]
  },
  {
   "cell_type": "code",
   "execution_count": 22,
   "id": "8c010da6-00ff-4f32-b663-8f5c7705a61c",
   "metadata": {},
   "outputs": [],
   "source": [
    "loaded_svm_model = joblib.load('svm_model/svm_model.joblib')\n",
    "loaded_svm_vectorizer = joblib.load('svm_model/svm_vectorizer.joblib')\n",
    "loaded_svm_label_encoder = joblib.load('svm_model/svm_label_encoder.joblib')"
   ]
  },
  {
   "cell_type": "code",
   "execution_count": 32,
   "id": "442c43da-4f76-418f-a0a5-52f06670e87e",
   "metadata": {},
   "outputs": [
    {
     "name": "stdout",
     "output_type": "stream",
     "text": [
      "Text: Today is a wonderful excitement day!\n",
      "Predicted Label (SVM): joy\n",
      "Probability (SVM): 0.70\n"
     ]
    }
   ],
   "source": [
    "new_text = \"Today is a wonderful excitement day!\"\n",
    "\n",
    "vectorized_new_text = loaded_svm_vectorizer.transform([preprocess_text(new_text)])\n",
    "\n",
    "predictions_proba_svm = loaded_svm_model.predict_proba(vectorized_new_text)\n",
    "\n",
    "predicted_label_svm = loaded_svm_label_encoder.inverse_transform(predictions_proba_svm.argmax(axis=1))[0]\n",
    "probability_svm = predictions_proba_svm.max()\n",
    "\n",
    "print(f\"Text: {new_text}\\nPredicted Label (SVM): {predicted_label_svm}\\nProbability (SVM): {probability_svm:.2f}\")"
   ]
  },
  {
   "cell_type": "code",
   "execution_count": 34,
   "id": "744e6e67-0e12-4b63-a131-4e232505c92f",
   "metadata": {},
   "outputs": [
    {
     "name": "stdout",
     "output_type": "stream",
     "text": [
      "Text: I'm afraid of spiders, they're so big!\n",
      "Predicted Label (SVM): fear\n",
      "Probability (SVM): 1.00\n"
     ]
    }
   ],
   "source": [
    "new_text = \"I'm afraid of spiders, they're so big!\"\n",
    "\n",
    "vectorized_new_text = loaded_svm_vectorizer.transform([preprocess_text(new_text)])\n",
    "\n",
    "predictions_proba_svm = loaded_svm_model.predict_proba(vectorized_new_text)\n",
    "\n",
    "predicted_label_svm = loaded_svm_label_encoder.inverse_transform(predictions_proba_svm.argmax(axis=1))[0]\n",
    "probability_svm = predictions_proba_svm.max()\n",
    "\n",
    "print(f\"Text: {new_text}\\nPredicted Label (SVM): {predicted_label_svm}\\nProbability (SVM): {probability_svm:.2f}\")"
   ]
  },
  {
   "cell_type": "code",
   "execution_count": null,
   "id": "59db9694-71a5-4865-aeb5-8f62fe3337e7",
   "metadata": {},
   "outputs": [],
   "source": []
  }
 ],
 "metadata": {
  "kernelspec": {
   "display_name": "Python 3 (ipykernel)",
   "language": "python",
   "name": "python3"
  },
  "language_info": {
   "codemirror_mode": {
    "name": "ipython",
    "version": 3
   },
   "file_extension": ".py",
   "mimetype": "text/x-python",
   "name": "python",
   "nbconvert_exporter": "python",
   "pygments_lexer": "ipython3",
   "version": "3.11.3"
  }
 },
 "nbformat": 4,
 "nbformat_minor": 5
}
