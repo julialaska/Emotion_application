{
 "cells": [
  {
   "cell_type": "code",
   "execution_count": 19,
   "id": "ea7268f9-57fc-4cad-a850-226c7f9fcaf9",
   "metadata": {},
   "outputs": [],
   "source": [
    "import re\n",
    "import pandas as pd\n",
    "import numpy as np\n",
    "import joblib\n",
    "from sklearn.model_selection import train_test_split\n",
    "from tensorflow.keras.preprocessing.text import Tokenizer\n",
    "from tensorflow.keras.preprocessing.sequence import pad_sequences\n",
    "from tensorflow.keras.models import Sequential\n",
    "from tensorflow.keras.layers import Embedding, LSTM, Dense\n",
    "from sklearn.preprocessing import LabelEncoder\n",
    "from sklearn import svm\n",
    "from nltk import PorterStemmer, word_tokenize\n",
    "from nltk.corpus import stopwords\n",
    "import unidecode\n",
    "from sklearn.feature_extraction.text import TfidfVectorizer\n",
    "from sklearn.metrics import accuracy_score \n",
    "from sklearn.metrics import precision_score\n",
    "from sklearn.metrics import recall_score\n",
    "from sklearn.metrics import f1_score\n",
    "from sklearn.metrics import classification_report"
   ]
  },
  {
   "cell_type": "code",
   "execution_count": 2,
   "id": "90c5bb84-7dd5-4f93-8f7d-e200e08236b8",
   "metadata": {},
   "outputs": [],
   "source": [
    "train_data = pd.read_csv('data/wassa_train.csv')\n",
    "test_data = pd.read_csv('data/wassa_test.csv')\n",
    "val_data = pd.read_csv('data/wassa_val.csv')"
   ]
  },
  {
   "cell_type": "code",
   "execution_count": 3,
   "id": "fbafa9dc-8be5-4aba-9353-7101a175fd31",
   "metadata": {},
   "outputs": [
    {
     "data": {
      "text/html": [
       "<div>\n",
       "<style scoped>\n",
       "    .dataframe tbody tr th:only-of-type {\n",
       "        vertical-align: middle;\n",
       "    }\n",
       "\n",
       "    .dataframe tbody tr th {\n",
       "        vertical-align: top;\n",
       "    }\n",
       "\n",
       "    .dataframe thead th {\n",
       "        text-align: right;\n",
       "    }\n",
       "</style>\n",
       "<table border=\"1\" class=\"dataframe\">\n",
       "  <thead>\n",
       "    <tr style=\"text-align: right;\">\n",
       "      <th></th>\n",
       "      <th>id</th>\n",
       "      <th>tweet</th>\n",
       "      <th>emotion</th>\n",
       "    </tr>\n",
       "  </thead>\n",
       "  <tbody>\n",
       "    <tr>\n",
       "      <th>0</th>\n",
       "      <td>1929</td>\n",
       "      <td>Kinda wished I watched mischievous kiss before...</td>\n",
       "      <td>joy</td>\n",
       "    </tr>\n",
       "    <tr>\n",
       "      <th>1</th>\n",
       "      <td>4049</td>\n",
       "      <td>When you forget to mention you were bought dre...</td>\n",
       "      <td>anger</td>\n",
       "    </tr>\n",
       "    <tr>\n",
       "      <th>2</th>\n",
       "      <td>5405</td>\n",
       "      <td>@FreyaLynn @donniewahlberg yep! jimmy buffett ...</td>\n",
       "      <td>neutral</td>\n",
       "    </tr>\n",
       "    <tr>\n",
       "      <th>3</th>\n",
       "      <td>5900</td>\n",
       "      <td>@philcampbell blue skies? where, it's still gr...</td>\n",
       "      <td>neutral</td>\n",
       "    </tr>\n",
       "    <tr>\n",
       "      <th>4</th>\n",
       "      <td>3712</td>\n",
       "      <td>Some moving clips on youtube tonight of the vi...</td>\n",
       "      <td>anger</td>\n",
       "    </tr>\n",
       "    <tr>\n",
       "      <th>...</th>\n",
       "      <td>...</td>\n",
       "      <td>...</td>\n",
       "      <td>...</td>\n",
       "    </tr>\n",
       "    <tr>\n",
       "      <th>5996</th>\n",
       "      <td>5407</td>\n",
       "      <td>@koifusionpdx i was so close to the tacos...on...</td>\n",
       "      <td>neutral</td>\n",
       "    </tr>\n",
       "    <tr>\n",
       "      <th>5997</th>\n",
       "      <td>496</td>\n",
       "      <td>@Fatumoriginal there's no sitcom better! If u ...</td>\n",
       "      <td>sadness</td>\n",
       "    </tr>\n",
       "    <tr>\n",
       "      <th>5998</th>\n",
       "      <td>499</td>\n",
       "      <td>@Mysteri759 @Ren102e906 @slb42jcb @swoozyqyah ...</td>\n",
       "      <td>sadness</td>\n",
       "    </tr>\n",
       "    <tr>\n",
       "      <th>5999</th>\n",
       "      <td>1784</td>\n",
       "      <td>Watch this amazing live.ly broadcast by @ittzd...</td>\n",
       "      <td>joy</td>\n",
       "    </tr>\n",
       "    <tr>\n",
       "      <th>6000</th>\n",
       "      <td>4829</td>\n",
       "      <td>@daniellemhicks lol what!! where is it!</td>\n",
       "      <td>neutral</td>\n",
       "    </tr>\n",
       "  </tbody>\n",
       "</table>\n",
       "<p>6001 rows × 3 columns</p>\n",
       "</div>"
      ],
      "text/plain": [
       "        id                                              tweet  emotion\n",
       "0     1929  Kinda wished I watched mischievous kiss before...      joy\n",
       "1     4049  When you forget to mention you were bought dre...    anger\n",
       "2     5405  @FreyaLynn @donniewahlberg yep! jimmy buffett ...  neutral\n",
       "3     5900  @philcampbell blue skies? where, it's still gr...  neutral\n",
       "4     3712  Some moving clips on youtube tonight of the vi...    anger\n",
       "...    ...                                                ...      ...\n",
       "5996  5407  @koifusionpdx i was so close to the tacos...on...  neutral\n",
       "5997   496  @Fatumoriginal there's no sitcom better! If u ...  sadness\n",
       "5998   499  @Mysteri759 @Ren102e906 @slb42jcb @swoozyqyah ...  sadness\n",
       "5999  1784  Watch this amazing live.ly broadcast by @ittzd...      joy\n",
       "6000  4829            @daniellemhicks lol what!! where is it!  neutral\n",
       "\n",
       "[6001 rows x 3 columns]"
      ]
     },
     "execution_count": 3,
     "metadata": {},
     "output_type": "execute_result"
    }
   ],
   "source": [
    "train_data"
   ]
  },
  {
   "cell_type": "code",
   "execution_count": 4,
   "id": "d8780765-b199-43d3-9126-9aa4837ef125",
   "metadata": {},
   "outputs": [],
   "source": [
    "def preprocess_text(text):\n",
    "    result = text.lower()\n",
    "    result = result.strip()\n",
    "    result = re.result = re.sub(r\"http\\S+\", \"\", result)\n",
    "    result = re.sub('\\S*@\\S*\\s?', '', result)\n",
    "    result = unidecode.unidecode(result)\n",
    "    stop_words = stopwords.words(\"english\")\n",
    "    word_list = word_tokenize(result)\n",
    "    # # english stemmer\n",
    "    # ps = SnowballStemmer(\"english\")\n",
    "\n",
    "    stemmed_sentence = \"\"\n",
    "    for word in word_list:\n",
    "        if word not in stop_words:\n",
    "            stemmed_sentence += word\n",
    "            stemmed_sentence += \" \"\n",
    "\n",
    "    result = stemmed_sentence\n",
    "    whitelist = set('abcdefghijklmnopqrstuvwxyz ABCDEFGHIJKLMNOPQRSTUVWXYZ')\n",
    "    result = ''.join(filter(whitelist.__contains__, result))\n",
    "    result = ''.join([i for i in result if not i.isdigit()])\n",
    "    return result"
   ]
  },
  {
   "cell_type": "code",
   "execution_count": 5,
   "id": "6b7ddb23-edc0-4b21-9e1b-3070312a994e",
   "metadata": {},
   "outputs": [],
   "source": [
    "\n",
    "def preprocess_text_list(text_list):\n",
    "  for i,text in enumerate(text_list):\n",
    "    text_list[i] = preprocess_text(text_list[i])"
   ]
  },
  {
   "cell_type": "code",
   "execution_count": 6,
   "id": "afc37feb-e547-40ce-a0c0-4c23e313363c",
   "metadata": {},
   "outputs": [
    {
     "data": {
      "text/plain": [
       "['joy',\n",
       " 'anger',\n",
       " 'neutral',\n",
       " 'neutral',\n",
       " 'anger',\n",
       " 'joy',\n",
       " 'neutral',\n",
       " 'sadness',\n",
       " 'sadness',\n",
       " 'neutral']"
      ]
     },
     "execution_count": 6,
     "metadata": {},
     "output_type": "execute_result"
    }
   ],
   "source": [
    "train_texts = train_data[\"tweet\"].tolist()\n",
    "val_texts = val_data[\"tweet\"].tolist()\n",
    "test_texts = test_data[\"tweet\"].tolist()\n",
    "\n",
    "\n",
    "train_labels = train_data[\"emotion\"].tolist()\n",
    "val_labels = val_data[\"emotion\"].tolist()\n",
    "test_labels = test_data[\"emotion\"].tolist()\n",
    "\n",
    "train_labels[:10]\n",
    "     "
   ]
  },
  {
   "cell_type": "code",
   "execution_count": 7,
   "id": "8242b721-0576-44ef-9b8f-f436ee55b8ca",
   "metadata": {},
   "outputs": [
    {
     "data": {
      "text/plain": [
       "['kinda wished watched mischievous kiss playful kiss ',\n",
       " 'forget mention bought dreamboys tickets ',\n",
       " 'yep  jimmy buffett ftw     jimmy needs tweet words wisdom every morning ',\n",
       " 'blue skies   s still grey hazy window ',\n",
       " 'moving clips youtube tonight vigil held tulsa metropolitan baptist church  terencecruther  justice  sadness ',\n",
       " 'makes successful  happy forever ',\n",
       " 'morning hon  breakfast  cant decide ',\n",
       " 'standard candice starting show pout  startasyoumeantogoon  gbbo ',\n",
       " '   would frown bit  folding arms  why every time m need assistance someone expects lil   ',\n",
       " 'someone make cofffeeeeeee  ']"
      ]
     },
     "execution_count": 7,
     "metadata": {},
     "output_type": "execute_result"
    }
   ],
   "source": [
    "preprocess_text_list(train_texts)\n",
    "preprocess_text_list(val_texts)\n",
    "preprocess_text_list(test_texts)\n",
    "\n",
    "train_texts[:10]"
   ]
  },
  {
   "cell_type": "code",
   "execution_count": 8,
   "id": "af032df3-01fa-4554-be7e-656886cea632",
   "metadata": {},
   "outputs": [],
   "source": [
    "tokenizer = Tokenizer()\n",
    "tokenizer.fit_on_texts(train_texts)"
   ]
  },
  {
   "cell_type": "code",
   "execution_count": 13,
   "id": "d2a16cb9-c344-4250-ba13-c3b630bc8166",
   "metadata": {},
   "outputs": [],
   "source": [
    "X_train = tokenizer.texts_to_sequences(train_texts)\n",
    "X_val = tokenizer.texts_to_sequences(val_texts)\n",
    "X_test = tokenizer.texts_to_sequences(test_texts)\n",
    "\n",
    "X_train = pad_sequences(X_train)\n",
    "X_val = pad_sequences(X_val, maxlen=X_train.shape[1])\n",
    "X_test = pad_sequences(X_test, maxlen=X_train.shape[1])\n"
   ]
  },
  {
   "cell_type": "code",
   "execution_count": 14,
   "id": "e0ba755a-202d-4daa-b81c-b3471e79fd30",
   "metadata": {},
   "outputs": [],
   "source": [
    "label_encoder = LabelEncoder()\n",
    "y_train = label_encoder.fit_transform(train_data['emotion'])\n",
    "y_val = label_encoder.transform(val_data['emotion'])\n",
    "y_test = label_encoder.transform(test_data['emotion'])"
   ]
  },
  {
   "cell_type": "code",
   "execution_count": 15,
   "id": "d69fd907-e49b-4bc2-b23f-ebd7beaf6997",
   "metadata": {},
   "outputs": [],
   "source": [
    "embedding_dim = 50\n",
    "vocab_size = len(tokenizer.word_index) + 1"
   ]
  },
  {
   "cell_type": "code",
   "execution_count": 16,
   "id": "690159d7-1b0b-4576-9a73-e55bc142e571",
   "metadata": {},
   "outputs": [],
   "source": [
    "model = Sequential()\n",
    "model.add(Embedding(input_dim=vocab_size, output_dim=embedding_dim, input_length=X_train.shape[1]))\n",
    "model.add(LSTM(100))\n",
    "model.add(Dense(1, activation='sigmoid'))"
   ]
  },
  {
   "cell_type": "code",
   "execution_count": 36,
   "id": "85018a59-1ce1-471b-a500-d69f1dcb7e1a",
   "metadata": {},
   "outputs": [],
   "source": [
    "model.compile(optimizer='adam', loss='binary_crossentropy', metrics=['accuracy'])"
   ]
  },
  {
   "cell_type": "code",
   "execution_count": 37,
   "id": "d338319c-00e2-4f12-94a1-1a4ce85b1603",
   "metadata": {},
   "outputs": [
    {
     "name": "stdout",
     "output_type": "stream",
     "text": [
      "Epoch 1/5\n",
      "188/188 [==============================] - 4s 13ms/step - loss: -18.2558 - accuracy: 0.1995 - val_loss: -29.3057 - val_accuracy: 0.2000\n",
      "Epoch 2/5\n",
      "188/188 [==============================] - 2s 11ms/step - loss: -38.5149 - accuracy: 0.2000 - val_loss: -47.8466 - val_accuracy: 0.2000\n",
      "Epoch 3/5\n",
      "188/188 [==============================] - 2s 11ms/step - loss: -56.8370 - accuracy: 0.2000 - val_loss: -65.8890 - val_accuracy: 0.2000\n",
      "Epoch 4/5\n",
      "188/188 [==============================] - 2s 11ms/step - loss: -74.9777 - accuracy: 0.2000 - val_loss: -84.1978 - val_accuracy: 0.2000\n",
      "Epoch 5/5\n",
      "188/188 [==============================] - 2s 11ms/step - loss: -93.0326 - accuracy: 0.2000 - val_loss: -102.0511 - val_accuracy: 0.2000\n"
     ]
    },
    {
     "data": {
      "text/plain": [
       "<keras.src.callbacks.History at 0x2062887d190>"
      ]
     },
     "execution_count": 37,
     "metadata": {},
     "output_type": "execute_result"
    }
   ],
   "source": [
    "model.fit(X_train, y_train, epochs=5, batch_size=32, validation_data=(X_val, y_val))"
   ]
  },
  {
   "cell_type": "code",
   "execution_count": 38,
   "id": "881b6e23-3a12-4355-bb6f-f5248282e8fb",
   "metadata": {},
   "outputs": [
    {
     "name": "stdout",
     "output_type": "stream",
     "text": [
      "24/24 [==============================] - 0s 3ms/step - loss: -102.0510 - accuracy: 0.2000\n",
      "Test Accuracy: 20.00%\n"
     ]
    }
   ],
   "source": [
    "loss, accuracy = model.evaluate(X_test, y_test)\n",
    "print(f'Test Accuracy: {accuracy*100:.2f}%')"
   ]
  },
  {
   "cell_type": "code",
   "execution_count": 39,
   "id": "ea207cdd-8dbf-4938-bb97-66200f3303f1",
   "metadata": {},
   "outputs": [
    {
     "name": "stdout",
     "output_type": "stream",
     "text": [
      "1/1 [==============================] - 0s 256ms/step\n",
      "Predictions: ['fear' 'fear']\n"
     ]
    }
   ],
   "source": [
    "new_texts = [\"I'm so happy right now!\", \"This is really frustrating.\"]\n",
    "new_sequences = tokenizer.texts_to_sequences(new_texts)\n",
    "new_padded = pad_sequences(new_sequences, maxlen=X_train.shape[1])\n",
    "\n",
    "predictions = model.predict(new_padded)\n",
    "predicted_labels = label_encoder.inverse_transform([1 if prediction > 0.5 else 0 for prediction in predictions.flatten()])\n",
    "\n",
    "print(f'Predictions: {predicted_labels}')"
   ]
  },
  {
   "cell_type": "code",
   "execution_count": 40,
   "id": "15a03165-9803-4081-80f5-ebb3b0684a5d",
   "metadata": {},
   "outputs": [
    {
     "name": "stdout",
     "output_type": "stream",
     "text": [
      "1/1 [==============================] - 0s 14ms/step\n",
      "Predictions: ['fear']\n"
     ]
    }
   ],
   "source": [
    "new_texts = [\"Kinda wished I watched mischievous kiss before.\"]\n",
    "new_sequences = tokenizer.texts_to_sequences(new_texts)\n",
    "new_padded = pad_sequences(new_sequences, maxlen=X_train.shape[1])\n",
    "\n",
    "predictions = model.predict(new_padded)\n",
    "predicted_labels = label_encoder.inverse_transform([1 if prediction > 0.5 else 0 for prediction in predictions.flatten()])\n",
    "\n",
    "print(f'Predictions: {predicted_labels}')"
   ]
  },
  {
   "cell_type": "markdown",
   "id": "27075663-89d8-42e7-994f-fe66aac7ac62",
   "metadata": {},
   "source": [
    "# SVM\n"
   ]
  },
  {
   "cell_type": "code",
   "execution_count": null,
   "id": "5ff97a28-f740-4a16-b69e-0a495e9ceb19",
   "metadata": {},
   "outputs": [],
   "source": []
  },
  {
   "cell_type": "code",
   "execution_count": 9,
   "id": "cf997945-5225-4452-803d-a8fe14bbf08a",
   "metadata": {},
   "outputs": [
    {
     "data": {
      "text/html": [
       "<style>#sk-container-id-1 {color: black;}#sk-container-id-1 pre{padding: 0;}#sk-container-id-1 div.sk-toggleable {background-color: white;}#sk-container-id-1 label.sk-toggleable__label {cursor: pointer;display: block;width: 100%;margin-bottom: 0;padding: 0.3em;box-sizing: border-box;text-align: center;}#sk-container-id-1 label.sk-toggleable__label-arrow:before {content: \"▸\";float: left;margin-right: 0.25em;color: #696969;}#sk-container-id-1 label.sk-toggleable__label-arrow:hover:before {color: black;}#sk-container-id-1 div.sk-estimator:hover label.sk-toggleable__label-arrow:before {color: black;}#sk-container-id-1 div.sk-toggleable__content {max-height: 0;max-width: 0;overflow: hidden;text-align: left;background-color: #f0f8ff;}#sk-container-id-1 div.sk-toggleable__content pre {margin: 0.2em;color: black;border-radius: 0.25em;background-color: #f0f8ff;}#sk-container-id-1 input.sk-toggleable__control:checked~div.sk-toggleable__content {max-height: 200px;max-width: 100%;overflow: auto;}#sk-container-id-1 input.sk-toggleable__control:checked~label.sk-toggleable__label-arrow:before {content: \"▾\";}#sk-container-id-1 div.sk-estimator input.sk-toggleable__control:checked~label.sk-toggleable__label {background-color: #d4ebff;}#sk-container-id-1 div.sk-label input.sk-toggleable__control:checked~label.sk-toggleable__label {background-color: #d4ebff;}#sk-container-id-1 input.sk-hidden--visually {border: 0;clip: rect(1px 1px 1px 1px);clip: rect(1px, 1px, 1px, 1px);height: 1px;margin: -1px;overflow: hidden;padding: 0;position: absolute;width: 1px;}#sk-container-id-1 div.sk-estimator {font-family: monospace;background-color: #f0f8ff;border: 1px dotted black;border-radius: 0.25em;box-sizing: border-box;margin-bottom: 0.5em;}#sk-container-id-1 div.sk-estimator:hover {background-color: #d4ebff;}#sk-container-id-1 div.sk-parallel-item::after {content: \"\";width: 100%;border-bottom: 1px solid gray;flex-grow: 1;}#sk-container-id-1 div.sk-label:hover label.sk-toggleable__label {background-color: #d4ebff;}#sk-container-id-1 div.sk-serial::before {content: \"\";position: absolute;border-left: 1px solid gray;box-sizing: border-box;top: 0;bottom: 0;left: 50%;z-index: 0;}#sk-container-id-1 div.sk-serial {display: flex;flex-direction: column;align-items: center;background-color: white;padding-right: 0.2em;padding-left: 0.2em;position: relative;}#sk-container-id-1 div.sk-item {position: relative;z-index: 1;}#sk-container-id-1 div.sk-parallel {display: flex;align-items: stretch;justify-content: center;background-color: white;position: relative;}#sk-container-id-1 div.sk-item::before, #sk-container-id-1 div.sk-parallel-item::before {content: \"\";position: absolute;border-left: 1px solid gray;box-sizing: border-box;top: 0;bottom: 0;left: 50%;z-index: -1;}#sk-container-id-1 div.sk-parallel-item {display: flex;flex-direction: column;z-index: 1;position: relative;background-color: white;}#sk-container-id-1 div.sk-parallel-item:first-child::after {align-self: flex-end;width: 50%;}#sk-container-id-1 div.sk-parallel-item:last-child::after {align-self: flex-start;width: 50%;}#sk-container-id-1 div.sk-parallel-item:only-child::after {width: 0;}#sk-container-id-1 div.sk-dashed-wrapped {border: 1px dashed gray;margin: 0 0.4em 0.5em 0.4em;box-sizing: border-box;padding-bottom: 0.4em;background-color: white;}#sk-container-id-1 div.sk-label label {font-family: monospace;font-weight: bold;display: inline-block;line-height: 1.2em;}#sk-container-id-1 div.sk-label-container {text-align: center;}#sk-container-id-1 div.sk-container {/* jupyter's `normalize.less` sets `[hidden] { display: none; }` but bootstrap.min.css set `[hidden] { display: none !important; }` so we also need the `!important` here to be able to override the default hidden behavior on the sphinx rendered scikit-learn.org. See: https://github.com/scikit-learn/scikit-learn/issues/21755 */display: inline-block !important;position: relative;}#sk-container-id-1 div.sk-text-repr-fallback {display: none;}</style><div id=\"sk-container-id-1\" class=\"sk-top-container\"><div class=\"sk-text-repr-fallback\"><pre>TfidfVectorizer()</pre><b>In a Jupyter environment, please rerun this cell to show the HTML representation or trust the notebook. <br />On GitHub, the HTML representation is unable to render, please try loading this page with nbviewer.org.</b></div><div class=\"sk-container\" hidden><div class=\"sk-item\"><div class=\"sk-estimator sk-toggleable\"><input class=\"sk-toggleable__control sk-hidden--visually\" id=\"sk-estimator-id-1\" type=\"checkbox\" checked><label for=\"sk-estimator-id-1\" class=\"sk-toggleable__label sk-toggleable__label-arrow\">TfidfVectorizer</label><div class=\"sk-toggleable__content\"><pre>TfidfVectorizer()</pre></div></div></div></div></div>"
      ],
      "text/plain": [
       "TfidfVectorizer()"
      ]
     },
     "execution_count": 9,
     "metadata": {},
     "output_type": "execute_result"
    }
   ],
   "source": [
    " vectorizer = TfidfVectorizer()\n",
    " vectorizer.fit(train_texts)"
   ]
  },
  {
   "cell_type": "code",
   "execution_count": 10,
   "id": "a744610b-f783-4c61-8706-3b88f691e1d2",
   "metadata": {},
   "outputs": [],
   "source": [
    "vectorized_train_texts = vectorizer.transform(train_texts)\n",
    "vectorized_val_texts = vectorizer.transform(val_texts)\n",
    "vectorized_test_texts = vectorizer.transform(test_texts)"
   ]
  },
  {
   "cell_type": "code",
   "execution_count": 11,
   "id": "ed62ba41-80d3-4631-8418-bf4798cf29d1",
   "metadata": {},
   "outputs": [],
   "source": [
    "label_encoder = LabelEncoder()\n",
    "encoded_train_labels = label_encoder.fit_transform(train_labels)\n",
    "encoded_val_labels = label_encoder.transform(val_labels)\n",
    "encoded_test_labels = label_encoder.transform(test_labels)"
   ]
  },
  {
   "cell_type": "code",
   "execution_count": 12,
   "id": "c92a2194-0987-4818-a2dc-25870fd58ca7",
   "metadata": {},
   "outputs": [
    {
     "data": {
      "text/html": [
       "<style>#sk-container-id-2 {color: black;}#sk-container-id-2 pre{padding: 0;}#sk-container-id-2 div.sk-toggleable {background-color: white;}#sk-container-id-2 label.sk-toggleable__label {cursor: pointer;display: block;width: 100%;margin-bottom: 0;padding: 0.3em;box-sizing: border-box;text-align: center;}#sk-container-id-2 label.sk-toggleable__label-arrow:before {content: \"▸\";float: left;margin-right: 0.25em;color: #696969;}#sk-container-id-2 label.sk-toggleable__label-arrow:hover:before {color: black;}#sk-container-id-2 div.sk-estimator:hover label.sk-toggleable__label-arrow:before {color: black;}#sk-container-id-2 div.sk-toggleable__content {max-height: 0;max-width: 0;overflow: hidden;text-align: left;background-color: #f0f8ff;}#sk-container-id-2 div.sk-toggleable__content pre {margin: 0.2em;color: black;border-radius: 0.25em;background-color: #f0f8ff;}#sk-container-id-2 input.sk-toggleable__control:checked~div.sk-toggleable__content {max-height: 200px;max-width: 100%;overflow: auto;}#sk-container-id-2 input.sk-toggleable__control:checked~label.sk-toggleable__label-arrow:before {content: \"▾\";}#sk-container-id-2 div.sk-estimator input.sk-toggleable__control:checked~label.sk-toggleable__label {background-color: #d4ebff;}#sk-container-id-2 div.sk-label input.sk-toggleable__control:checked~label.sk-toggleable__label {background-color: #d4ebff;}#sk-container-id-2 input.sk-hidden--visually {border: 0;clip: rect(1px 1px 1px 1px);clip: rect(1px, 1px, 1px, 1px);height: 1px;margin: -1px;overflow: hidden;padding: 0;position: absolute;width: 1px;}#sk-container-id-2 div.sk-estimator {font-family: monospace;background-color: #f0f8ff;border: 1px dotted black;border-radius: 0.25em;box-sizing: border-box;margin-bottom: 0.5em;}#sk-container-id-2 div.sk-estimator:hover {background-color: #d4ebff;}#sk-container-id-2 div.sk-parallel-item::after {content: \"\";width: 100%;border-bottom: 1px solid gray;flex-grow: 1;}#sk-container-id-2 div.sk-label:hover label.sk-toggleable__label {background-color: #d4ebff;}#sk-container-id-2 div.sk-serial::before {content: \"\";position: absolute;border-left: 1px solid gray;box-sizing: border-box;top: 0;bottom: 0;left: 50%;z-index: 0;}#sk-container-id-2 div.sk-serial {display: flex;flex-direction: column;align-items: center;background-color: white;padding-right: 0.2em;padding-left: 0.2em;position: relative;}#sk-container-id-2 div.sk-item {position: relative;z-index: 1;}#sk-container-id-2 div.sk-parallel {display: flex;align-items: stretch;justify-content: center;background-color: white;position: relative;}#sk-container-id-2 div.sk-item::before, #sk-container-id-2 div.sk-parallel-item::before {content: \"\";position: absolute;border-left: 1px solid gray;box-sizing: border-box;top: 0;bottom: 0;left: 50%;z-index: -1;}#sk-container-id-2 div.sk-parallel-item {display: flex;flex-direction: column;z-index: 1;position: relative;background-color: white;}#sk-container-id-2 div.sk-parallel-item:first-child::after {align-self: flex-end;width: 50%;}#sk-container-id-2 div.sk-parallel-item:last-child::after {align-self: flex-start;width: 50%;}#sk-container-id-2 div.sk-parallel-item:only-child::after {width: 0;}#sk-container-id-2 div.sk-dashed-wrapped {border: 1px dashed gray;margin: 0 0.4em 0.5em 0.4em;box-sizing: border-box;padding-bottom: 0.4em;background-color: white;}#sk-container-id-2 div.sk-label label {font-family: monospace;font-weight: bold;display: inline-block;line-height: 1.2em;}#sk-container-id-2 div.sk-label-container {text-align: center;}#sk-container-id-2 div.sk-container {/* jupyter's `normalize.less` sets `[hidden] { display: none; }` but bootstrap.min.css set `[hidden] { display: none !important; }` so we also need the `!important` here to be able to override the default hidden behavior on the sphinx rendered scikit-learn.org. See: https://github.com/scikit-learn/scikit-learn/issues/21755 */display: inline-block !important;position: relative;}#sk-container-id-2 div.sk-text-repr-fallback {display: none;}</style><div id=\"sk-container-id-2\" class=\"sk-top-container\"><div class=\"sk-text-repr-fallback\"><pre>SVC(probability=True)</pre><b>In a Jupyter environment, please rerun this cell to show the HTML representation or trust the notebook. <br />On GitHub, the HTML representation is unable to render, please try loading this page with nbviewer.org.</b></div><div class=\"sk-container\" hidden><div class=\"sk-item\"><div class=\"sk-estimator sk-toggleable\"><input class=\"sk-toggleable__control sk-hidden--visually\" id=\"sk-estimator-id-2\" type=\"checkbox\" checked><label for=\"sk-estimator-id-2\" class=\"sk-toggleable__label sk-toggleable__label-arrow\">SVC</label><div class=\"sk-toggleable__content\"><pre>SVC(probability=True)</pre></div></div></div></div></div>"
      ],
      "text/plain": [
       "SVC(probability=True)"
      ]
     },
     "execution_count": 12,
     "metadata": {},
     "output_type": "execute_result"
    }
   ],
   "source": [
    "svm_model = svm.SVC(probability=True)\n",
    "svm_model.fit(vectorized_train_texts, encoded_train_labels)"
   ]
  },
  {
   "cell_type": "code",
   "execution_count": 13,
   "id": "83cb4d26-a7d5-4f32-8775-af69857e9e01",
   "metadata": {},
   "outputs": [
    {
     "data": {
      "text/plain": [
       "array([[-5.86042706e+00, -2.62767516e+00, -3.65073746e-01,\n",
       "        -5.45897634e+00, -1.48500868e+00],\n",
       "       [-7.48842153e+00, -1.10583506e-02, -8.47690405e+00,\n",
       "        -4.66847520e+00, -7.07840994e+00],\n",
       "       [-1.95364877e+01, -6.32350164e-05, -1.71559992e+01,\n",
       "        -9.72783860e+00, -1.25364272e+01],\n",
       "       ...,\n",
       "       [-7.09069420e-01, -2.50180770e+00, -3.07429488e+00,\n",
       "        -1.29699370e+00, -2.24067394e+00],\n",
       "       [-2.39121961e+00, -3.69999459e+00, -2.62587918e+00,\n",
       "        -3.80513238e-01, -2.05672765e+00],\n",
       "       [-5.07982431e+00, -5.64711392e+00, -3.69333977e+00,\n",
       "        -1.01053520e-01, -2.78907721e+00]])"
      ]
     },
     "execution_count": 13,
     "metadata": {},
     "output_type": "execute_result"
    }
   ],
   "source": [
    "y_pred = svm_model.predict_log_proba(vectorized_val_texts)\n",
    "y_pred"
   ]
  },
  {
   "cell_type": "code",
   "execution_count": 14,
   "id": "46570149-c641-4f35-b5dc-9f475431a72b",
   "metadata": {},
   "outputs": [
    {
     "name": "stdout",
     "output_type": "stream",
     "text": [
      "Model has acc = 0.8893333333333333\n",
      ", precision = 0.8893333333333333\n",
      ", recall = 0.8893333333333333\n",
      ", f1_score = 0.8893333333333333\n",
      "\n"
     ]
    }
   ],
   "source": [
    "acc = accuracy_score(encoded_val_labels, np.argmax(y_pred, axis=1))\n",
    "precision = precision_score(encoded_val_labels, np.argmax(y_pred, axis=1), average=\"micro\")\n",
    "recall = recall_score(encoded_val_labels, np.argmax(y_pred, axis=1), average=\"micro\")\n",
    "f1 = f1_score(encoded_val_labels, np.argmax(y_pred, axis=1), average=\"micro\")\n",
    "print(f\"Model has acc = {acc}\\n, precision = {precision}\\n, recall = {recall}\\n, f1_score = {f1}\\n\")"
   ]
  },
  {
   "cell_type": "code",
   "execution_count": 15,
   "id": "095ead2e-aebe-4067-8a68-36f0daf8bfe3",
   "metadata": {},
   "outputs": [],
   "source": [
    "y_pred = svm_model.predict(vectorized_test_texts)"
   ]
  },
  {
   "cell_type": "code",
   "execution_count": 16,
   "id": "5428df5d-5f80-499c-a304-ceec20fa6d4c",
   "metadata": {},
   "outputs": [
    {
     "name": "stdout",
     "output_type": "stream",
     "text": [
      "'I hate getting up, it's so annoying.' : neutral\n",
      "'I love cats and their sweet noses.' : joy\n",
      "'I put up with my schoolmates.' : neutral\n",
      "'This movie made me feel so happy!' : joy\n",
      "'The traffic jam today was frustrating.' : neutral\n",
      "'Spending time with friends always brings joy.' : joy\n",
      "'I feel lonely when I'm alone at home.' : neutral\n",
      "'Excited about the upcoming vacation!' : fear\n",
      "'I love spending time with friends and family. It brings me so much joy!' : joy\n",
      "'The rude behavior of that person made me really angry.' : anger\n",
      "'I'm feeling neutral about the upcoming changes at work.' : neutral\n",
      "'Today is just another neutral day for me.' : neutral\n",
      "'The constant delays and issues with the project are making me angry.' : anger\n",
      "'Winning the lottery would bring me immense joy and happiness!' : joy\n",
      "'I don't have a strong opinion on the matter; I'm feeling quite neutral.' : sadness\n",
      "'The news about the recent event left me in deep sadness.' : sadness\n",
      "'Losing a loved one is an experience filled with sadness and grief.' : sadness\n",
      "'I have a neutral stance on the current political situation.' : sadness\n",
      "'I'm so happy right now!' : joy\n",
      "'This is really frustrating.Feeling sad and lonely tonight.' : sadness\n",
      "'I can't contain my excitement!' : neutral\n",
      "'Angry about the recent events.' : anger\n",
      "'Today is a wonderful day!' : neutral\n",
      "'Dealing with a lot of stress.' : neutral\n",
      "'The movie made me cry, but it was beautiful.' : neutral\n",
      "'I'm thrilled about the upcoming project.' : neutral\n",
      "'Feeling a bit anxious about the presentation.' : neutral\n"
     ]
    }
   ],
   "source": [
    "emotions = [\n",
    "    \"I hate getting up, it's so annoying.\",\n",
    "    \"I love cats and their sweet noses.\",\n",
    "    \"I put up with my schoolmates.\",\n",
    "    \"This movie made me feel so happy!\",\n",
    "    \"The traffic jam today was frustrating.\",\n",
    "    \"Spending time with friends always brings joy.\",\n",
    "    \"I feel lonely when I'm alone at home.\",\n",
    "    \"Excited about the upcoming vacation!\",\n",
    "    \"I love spending time with friends and family. It brings me so much joy!\",\n",
    "    \"The rude behavior of that person made me really angry.\",\n",
    "    \"I'm feeling neutral about the upcoming changes at work.\",\n",
    "    \"Today is just another neutral day for me.\",\n",
    "    \"The constant delays and issues with the project are making me angry.\",\n",
    "    \"Winning the lottery would bring me immense joy and happiness!\",\n",
    "    \"I don't have a strong opinion on the matter; I'm feeling quite neutral.\",\n",
    "    \"The news about the recent event left me in deep sadness.\",\n",
    "    \"Losing a loved one is an experience filled with sadness and grief.\",\n",
    "    \"I have a neutral stance on the current political situation.\",\n",
    "    \"I'm so happy right now!\", \"This is really frustrating.\"\n",
    "    \"Feeling sad and lonely tonight.\",\n",
    "    \"I can't contain my excitement!\",\n",
    "    \"Angry about the recent events.\",\n",
    "    \"Today is a wonderful day!\",\n",
    "    \"Dealing with a lot of stress.\",\n",
    "    \"The movie made me cry, but it was beautiful.\",\n",
    "    \"I'm thrilled about the upcoming project.\",\n",
    "    \"Feeling a bit anxious about the presentation.\"\n",
    "]\n",
    "\n",
    "for text in emotions:\n",
    "    vectorized_text = vectorizer.transform([text])\n",
    "\n",
    "    text_pred = svm_model.predict(vectorized_text)\n",
    "\n",
    "    decoded_emotion = label_encoder.inverse_transform(text_pred)\n",
    "\n",
    "    print(f\"'{text}' : {decoded_emotion[0]}\")"
   ]
  },
  {
   "cell_type": "code",
   "execution_count": 31,
   "id": "43a8c326-334f-4a89-8401-0a36991048ed",
   "metadata": {},
   "outputs": [
    {
     "data": {
      "text/html": [
       "<div>\n",
       "<style scoped>\n",
       "    .dataframe tbody tr th:only-of-type {\n",
       "        vertical-align: middle;\n",
       "    }\n",
       "\n",
       "    .dataframe tbody tr th {\n",
       "        vertical-align: top;\n",
       "    }\n",
       "\n",
       "    .dataframe thead th {\n",
       "        text-align: right;\n",
       "    }\n",
       "</style>\n",
       "<table border=\"1\" class=\"dataframe\">\n",
       "  <thead>\n",
       "    <tr style=\"text-align: right;\">\n",
       "      <th></th>\n",
       "      <th>Text</th>\n",
       "      <th>Predicted Emotion</th>\n",
       "      <th>Probability</th>\n",
       "    </tr>\n",
       "  </thead>\n",
       "  <tbody>\n",
       "    <tr>\n",
       "      <th>0</th>\n",
       "      <td>I hate getting up, it's so annoying.</td>\n",
       "      <td>neutral</td>\n",
       "      <td>0.521537</td>\n",
       "    </tr>\n",
       "    <tr>\n",
       "      <th>1</th>\n",
       "      <td>I love cats and their sweet noses.</td>\n",
       "      <td>joy</td>\n",
       "      <td>0.999738</td>\n",
       "    </tr>\n",
       "    <tr>\n",
       "      <th>2</th>\n",
       "      <td>I put up with my schoolmates.</td>\n",
       "      <td>anger</td>\n",
       "      <td>0.621853</td>\n",
       "    </tr>\n",
       "    <tr>\n",
       "      <th>3</th>\n",
       "      <td>This movie made me feel so happy!</td>\n",
       "      <td>joy</td>\n",
       "      <td>0.999492</td>\n",
       "    </tr>\n",
       "    <tr>\n",
       "      <th>4</th>\n",
       "      <td>The traffic jam today was frustrating.</td>\n",
       "      <td>neutral</td>\n",
       "      <td>0.616242</td>\n",
       "    </tr>\n",
       "    <tr>\n",
       "      <th>5</th>\n",
       "      <td>Spending time with friends always brings joy.</td>\n",
       "      <td>joy</td>\n",
       "      <td>0.599712</td>\n",
       "    </tr>\n",
       "    <tr>\n",
       "      <th>6</th>\n",
       "      <td>I feel lonely when I'm alone at home.</td>\n",
       "      <td>neutral</td>\n",
       "      <td>0.992052</td>\n",
       "    </tr>\n",
       "    <tr>\n",
       "      <th>7</th>\n",
       "      <td>Excited about the upcoming vacation!</td>\n",
       "      <td>neutral</td>\n",
       "      <td>0.489396</td>\n",
       "    </tr>\n",
       "    <tr>\n",
       "      <th>8</th>\n",
       "      <td>I love spending time with friends and family. ...</td>\n",
       "      <td>joy</td>\n",
       "      <td>0.891370</td>\n",
       "    </tr>\n",
       "    <tr>\n",
       "      <th>9</th>\n",
       "      <td>The rude behavior of that person made me reall...</td>\n",
       "      <td>anger</td>\n",
       "      <td>0.998376</td>\n",
       "    </tr>\n",
       "    <tr>\n",
       "      <th>10</th>\n",
       "      <td>I'm feeling neutral about the upcoming changes...</td>\n",
       "      <td>neutral</td>\n",
       "      <td>0.912697</td>\n",
       "    </tr>\n",
       "    <tr>\n",
       "      <th>11</th>\n",
       "      <td>Today is just another neutral day for me.</td>\n",
       "      <td>neutral</td>\n",
       "      <td>0.907542</td>\n",
       "    </tr>\n",
       "    <tr>\n",
       "      <th>12</th>\n",
       "      <td>The constant delays and issues with the projec...</td>\n",
       "      <td>anger</td>\n",
       "      <td>0.990368</td>\n",
       "    </tr>\n",
       "    <tr>\n",
       "      <th>13</th>\n",
       "      <td>Winning the lottery would bring me immense joy...</td>\n",
       "      <td>joy</td>\n",
       "      <td>0.876669</td>\n",
       "    </tr>\n",
       "    <tr>\n",
       "      <th>14</th>\n",
       "      <td>I don't have a strong opinion on the matter; I...</td>\n",
       "      <td>sadness</td>\n",
       "      <td>0.425712</td>\n",
       "    </tr>\n",
       "    <tr>\n",
       "      <th>15</th>\n",
       "      <td>The news about the recent event left me in dee...</td>\n",
       "      <td>sadness</td>\n",
       "      <td>0.995362</td>\n",
       "    </tr>\n",
       "    <tr>\n",
       "      <th>16</th>\n",
       "      <td>Losing a loved one is an experience filled wit...</td>\n",
       "      <td>sadness</td>\n",
       "      <td>0.999997</td>\n",
       "    </tr>\n",
       "    <tr>\n",
       "      <th>17</th>\n",
       "      <td>I have a neutral stance on the current politic...</td>\n",
       "      <td>sadness</td>\n",
       "      <td>0.306941</td>\n",
       "    </tr>\n",
       "    <tr>\n",
       "      <th>18</th>\n",
       "      <td>I'm so happy right now!</td>\n",
       "      <td>joy</td>\n",
       "      <td>0.999999</td>\n",
       "    </tr>\n",
       "    <tr>\n",
       "      <th>19</th>\n",
       "      <td>This is really frustrating.Feeling sad and lon...</td>\n",
       "      <td>sadness</td>\n",
       "      <td>0.789232</td>\n",
       "    </tr>\n",
       "    <tr>\n",
       "      <th>20</th>\n",
       "      <td>I can't contain my excitement!</td>\n",
       "      <td>neutral</td>\n",
       "      <td>0.858889</td>\n",
       "    </tr>\n",
       "    <tr>\n",
       "      <th>21</th>\n",
       "      <td>Angry about the recent events.</td>\n",
       "      <td>anger</td>\n",
       "      <td>0.997947</td>\n",
       "    </tr>\n",
       "    <tr>\n",
       "      <th>22</th>\n",
       "      <td>Today is a wonderful day!</td>\n",
       "      <td>joy</td>\n",
       "      <td>0.721019</td>\n",
       "    </tr>\n",
       "    <tr>\n",
       "      <th>23</th>\n",
       "      <td>Dealing with a lot of stress.</td>\n",
       "      <td>neutral</td>\n",
       "      <td>0.368527</td>\n",
       "    </tr>\n",
       "    <tr>\n",
       "      <th>24</th>\n",
       "      <td>The movie made me cry, but it was beautiful.</td>\n",
       "      <td>neutral</td>\n",
       "      <td>0.442737</td>\n",
       "    </tr>\n",
       "    <tr>\n",
       "      <th>25</th>\n",
       "      <td>I'm thrilled about the upcoming project.</td>\n",
       "      <td>neutral</td>\n",
       "      <td>0.841111</td>\n",
       "    </tr>\n",
       "    <tr>\n",
       "      <th>26</th>\n",
       "      <td>Feeling a bit anxious about the presentation.</td>\n",
       "      <td>neutral</td>\n",
       "      <td>0.471921</td>\n",
       "    </tr>\n",
       "  </tbody>\n",
       "</table>\n",
       "</div>"
      ],
      "text/plain": [
       "                                                 Text Predicted Emotion  \\\n",
       "0                I hate getting up, it's so annoying.           neutral   \n",
       "1                  I love cats and their sweet noses.               joy   \n",
       "2                       I put up with my schoolmates.             anger   \n",
       "3                   This movie made me feel so happy!               joy   \n",
       "4              The traffic jam today was frustrating.           neutral   \n",
       "5       Spending time with friends always brings joy.               joy   \n",
       "6               I feel lonely when I'm alone at home.           neutral   \n",
       "7                Excited about the upcoming vacation!           neutral   \n",
       "8   I love spending time with friends and family. ...               joy   \n",
       "9   The rude behavior of that person made me reall...             anger   \n",
       "10  I'm feeling neutral about the upcoming changes...           neutral   \n",
       "11          Today is just another neutral day for me.           neutral   \n",
       "12  The constant delays and issues with the projec...             anger   \n",
       "13  Winning the lottery would bring me immense joy...               joy   \n",
       "14  I don't have a strong opinion on the matter; I...           sadness   \n",
       "15  The news about the recent event left me in dee...           sadness   \n",
       "16  Losing a loved one is an experience filled wit...           sadness   \n",
       "17  I have a neutral stance on the current politic...           sadness   \n",
       "18                            I'm so happy right now!               joy   \n",
       "19  This is really frustrating.Feeling sad and lon...           sadness   \n",
       "20                     I can't contain my excitement!           neutral   \n",
       "21                     Angry about the recent events.             anger   \n",
       "22                          Today is a wonderful day!               joy   \n",
       "23                      Dealing with a lot of stress.           neutral   \n",
       "24       The movie made me cry, but it was beautiful.           neutral   \n",
       "25           I'm thrilled about the upcoming project.           neutral   \n",
       "26      Feeling a bit anxious about the presentation.           neutral   \n",
       "\n",
       "    Probability  \n",
       "0      0.521537  \n",
       "1      0.999738  \n",
       "2      0.621853  \n",
       "3      0.999492  \n",
       "4      0.616242  \n",
       "5      0.599712  \n",
       "6      0.992052  \n",
       "7      0.489396  \n",
       "8      0.891370  \n",
       "9      0.998376  \n",
       "10     0.912697  \n",
       "11     0.907542  \n",
       "12     0.990368  \n",
       "13     0.876669  \n",
       "14     0.425712  \n",
       "15     0.995362  \n",
       "16     0.999997  \n",
       "17     0.306941  \n",
       "18     0.999999  \n",
       "19     0.789232  \n",
       "20     0.858889  \n",
       "21     0.997947  \n",
       "22     0.721019  \n",
       "23     0.368527  \n",
       "24     0.442737  \n",
       "25     0.841111  \n",
       "26     0.471921  "
      ]
     },
     "execution_count": 31,
     "metadata": {},
     "output_type": "execute_result"
    }
   ],
   "source": [
    "texts = []\n",
    "predicted_emotions = []\n",
    "probabilities = []\n",
    "\n",
    "for text in emotions:\n",
    "    vectorized_text = vectorizer.transform([preprocess_text(text)])\n",
    "    text_pred_prob = svm_model.predict_proba(vectorized_text)\n",
    "    text_pred = svm_model.predict(vectorized_text)\n",
    "    decoded_emotion = label_encoder.inverse_transform(text_pred)\n",
    "    \n",
    "    texts.append(text)\n",
    "    predicted_emotions.append(decoded_emotion[0])\n",
    "    probabilities.append(max(text_pred_prob[0]))  # Assuming you want the probability of the predicted class\n",
    "\n",
    "emotion_df = pd.DataFrame({'Text': texts, 'Predicted Emotion': predicted_emotions, 'Probability': probabilities})\n",
    "emotion_df"
   ]
  },
  {
   "cell_type": "code",
   "execution_count": 21,
   "id": "a853749a-c3e4-44f0-b65e-87f0255f9351",
   "metadata": {},
   "outputs": [
    {
     "data": {
      "text/plain": [
       "['svm_model/svm_label_encoder.joblib']"
      ]
     },
     "execution_count": 21,
     "metadata": {},
     "output_type": "execute_result"
    }
   ],
   "source": [
    "joblib.dump(svm_model, 'svm_model/svm_model.joblib')\n",
    "joblib.dump(vectorizer, 'svm_model/svm_vectorizer.joblib')\n",
    "joblib.dump(label_encoder, 'svm_model/svm_label_encoder.joblib')"
   ]
  },
  {
   "cell_type": "code",
   "execution_count": 22,
   "id": "8c010da6-00ff-4f32-b663-8f5c7705a61c",
   "metadata": {},
   "outputs": [],
   "source": [
    "loaded_svm_model = joblib.load('svm_model/svm_model.joblib')\n",
    "loaded_svm_vectorizer = joblib.load('svm_model/svm_vectorizer.joblib')\n",
    "loaded_svm_label_encoder = joblib.load('svm_model/svm_label_encoder.joblib')"
   ]
  },
  {
   "cell_type": "code",
   "execution_count": 32,
   "id": "442c43da-4f76-418f-a0a5-52f06670e87e",
   "metadata": {},
   "outputs": [
    {
     "name": "stdout",
     "output_type": "stream",
     "text": [
      "Text: Today is a wonderful excitement day!\n",
      "Predicted Label (SVM): joy\n",
      "Probability (SVM): 0.70\n"
     ]
    }
   ],
   "source": [
    "new_text = \"Today is a wonderful excitement day!\"\n",
    "\n",
    "vectorized_new_text = loaded_svm_vectorizer.transform([preprocess_text(new_text)])\n",
    "\n",
    "predictions_proba_svm = loaded_svm_model.predict_proba(vectorized_new_text)\n",
    "\n",
    "predicted_label_svm = loaded_svm_label_encoder.inverse_transform(predictions_proba_svm.argmax(axis=1))[0]\n",
    "probability_svm = predictions_proba_svm.max()\n",
    "\n",
    "print(f\"Text: {new_text}\\nPredicted Label (SVM): {predicted_label_svm}\\nProbability (SVM): {probability_svm:.2f}\")"
   ]
  },
  {
   "cell_type": "code",
   "execution_count": 34,
   "id": "744e6e67-0e12-4b63-a131-4e232505c92f",
   "metadata": {},
   "outputs": [
    {
     "name": "stdout",
     "output_type": "stream",
     "text": [
      "Text: I'm afraid of spiders, they're so big!\n",
      "Predicted Label (SVM): fear\n",
      "Probability (SVM): 1.00\n"
     ]
    }
   ],
   "source": [
    "new_text = \"I'm afraid of spiders, they're so big!\"\n",
    "\n",
    "vectorized_new_text = loaded_svm_vectorizer.transform([preprocess_text(new_text)])\n",
    "\n",
    "predictions_proba_svm = loaded_svm_model.predict_proba(vectorized_new_text)\n",
    "\n",
    "predicted_label_svm = loaded_svm_label_encoder.inverse_transform(predictions_proba_svm.argmax(axis=1))[0]\n",
    "probability_svm = predictions_proba_svm.max()\n",
    "\n",
    "print(f\"Text: {new_text}\\nPredicted Label (SVM): {predicted_label_svm}\\nProbability (SVM): {probability_svm:.2f}\")"
   ]
  },
  {
   "cell_type": "code",
   "execution_count": null,
   "id": "59db9694-71a5-4865-aeb5-8f62fe3337e7",
   "metadata": {},
   "outputs": [],
   "source": []
  }
 ],
 "metadata": {
  "kernelspec": {
   "display_name": "Python 3 (ipykernel)",
   "language": "python",
   "name": "python3"
  },
  "language_info": {
   "codemirror_mode": {
    "name": "ipython",
    "version": 3
   },
   "file_extension": ".py",
   "mimetype": "text/x-python",
   "name": "python",
   "nbconvert_exporter": "python",
   "pygments_lexer": "ipython3",
   "version": "3.11.6"
  }
 },
 "nbformat": 4,
 "nbformat_minor": 5
}
